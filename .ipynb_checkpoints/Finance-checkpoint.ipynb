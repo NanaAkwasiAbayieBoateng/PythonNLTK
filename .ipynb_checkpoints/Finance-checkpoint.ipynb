{
 "cells": [
  {
   "cell_type": "markdown",
   "metadata": {
    "collapsed": true
   },
   "source": [
    "## Finance"
   ]
  },
  {
   "cell_type": "markdown",
   "metadata": {},
   "source": [
    "The YahooQuotesReader class allows to get quotes data from Yahoo! Finance.\n"
   ]
  },
  {
   "cell_type": "markdown",
   "metadata": {},
   "source": [
    "Tutorial on downloading financial data from yahoo finance"
   ]
  },
  {
   "cell_type": "code",
   "execution_count": 2,
   "metadata": {},
   "outputs": [
    {
     "data": {
      "text/html": [
       "<div>\n",
       "<table border=\"1\" class=\"dataframe\">\n",
       "  <thead>\n",
       "    <tr style=\"text-align: right;\">\n",
       "      <th></th>\n",
       "      <th>PE</th>\n",
       "      <th>change_pct</th>\n",
       "      <th>last</th>\n",
       "      <th>short_ratio</th>\n",
       "      <th>time</th>\n",
       "    </tr>\n",
       "  </thead>\n",
       "  <tbody>\n",
       "    <tr>\n",
       "      <th>AMZN</th>\n",
       "      <td>248.72</td>\n",
       "      <td>+1.25%</td>\n",
       "      <td>977.96</td>\n",
       "      <td>1.21</td>\n",
       "      <td>4:00pm</td>\n",
       "    </tr>\n",
       "  </tbody>\n",
       "</table>\n",
       "</div>"
      ],
      "text/plain": [
       "          PE change_pct    last  short_ratio    time\n",
       "AMZN  248.72     +1.25%  977.96         1.21  4:00pm"
      ]
     },
     "execution_count": 2,
     "metadata": {},
     "output_type": "execute_result"
    }
   ],
   "source": [
    "# Hide warnings if there are any\n",
    "import warnings\n",
    "warnings.filterwarnings('ignore')\n",
    "\n",
    "import pandas_datareader.data as web\n",
    "\n",
    "amzn = web.get_quote_yahoo('AMZN')\n",
    "\n",
    "amzn"
   ]
  },
  {
   "cell_type": "markdown",
   "metadata": {},
   "source": [
    "The Options class allows the download of options data from Yahoo! Finance.\n",
    "\n",
    "The get_all_data method downloads and caches option data for all expiry months and provides a formatted DataFrame with a hierarchical index, so its easy to get to the specific option you want."
   ]
  },
  {
   "cell_type": "code",
   "execution_count": 3,
   "metadata": {},
   "outputs": [
    {
     "data": {
      "text/html": [
       "<div>\n",
       "<table border=\"1\" class=\"dataframe\">\n",
       "  <thead>\n",
       "    <tr style=\"text-align: right;\">\n",
       "      <th></th>\n",
       "      <th></th>\n",
       "      <th></th>\n",
       "      <th></th>\n",
       "      <th>Last</th>\n",
       "      <th>Bid</th>\n",
       "      <th>Ask</th>\n",
       "      <th>Chg</th>\n",
       "      <th>PctChg</th>\n",
       "    </tr>\n",
       "    <tr>\n",
       "      <th>Strike</th>\n",
       "      <th>Expiry</th>\n",
       "      <th>Type</th>\n",
       "      <th>Symbol</th>\n",
       "      <th></th>\n",
       "      <th></th>\n",
       "      <th></th>\n",
       "      <th></th>\n",
       "      <th></th>\n",
       "    </tr>\n",
       "  </thead>\n",
       "  <tbody>\n",
       "    <tr>\n",
       "      <th rowspan=\"4\" valign=\"top\">2.5</th>\n",
       "      <th>2017-09-15</th>\n",
       "      <th>call</th>\n",
       "      <th>AAPL170915C00002500</th>\n",
       "      <td>161.55</td>\n",
       "      <td>161.20</td>\n",
       "      <td>161.85</td>\n",
       "      <td>0.000000</td>\n",
       "      <td>0.000000</td>\n",
       "    </tr>\n",
       "    <tr>\n",
       "      <th>2017-11-17</th>\n",
       "      <th>call</th>\n",
       "      <th>AAPL171117C00002500</th>\n",
       "      <td>158.14</td>\n",
       "      <td>154.45</td>\n",
       "      <td>155.60</td>\n",
       "      <td>0.000000</td>\n",
       "      <td>0.000000</td>\n",
       "    </tr>\n",
       "    <tr>\n",
       "      <th rowspan=\"2\" valign=\"top\">2018-01-19</th>\n",
       "      <th>call</th>\n",
       "      <th>AAPL180119C00002500</th>\n",
       "      <td>158.13</td>\n",
       "      <td>154.40</td>\n",
       "      <td>155.60</td>\n",
       "      <td>0.000000</td>\n",
       "      <td>0.000000</td>\n",
       "    </tr>\n",
       "    <tr>\n",
       "      <th>put</th>\n",
       "      <th>AAPL180119P00002500</th>\n",
       "      <td>0.02</td>\n",
       "      <td>0.00</td>\n",
       "      <td>0.02</td>\n",
       "      <td>0.000000</td>\n",
       "      <td>0.000000</td>\n",
       "    </tr>\n",
       "    <tr>\n",
       "      <th>5.0</th>\n",
       "      <th>2017-09-15</th>\n",
       "      <th>call</th>\n",
       "      <th>AAPL170915C00005000</th>\n",
       "      <td>155.30</td>\n",
       "      <td>156.15</td>\n",
       "      <td>156.75</td>\n",
       "      <td>-2.899994</td>\n",
       "      <td>-1.833119</td>\n",
       "    </tr>\n",
       "  </tbody>\n",
       "</table>\n",
       "</div>"
      ],
      "text/plain": [
       "                                              Last     Bid     Ask       Chg  \\\n",
       "Strike Expiry     Type Symbol                                                  \n",
       "2.5    2017-09-15 call AAPL170915C00002500  161.55  161.20  161.85  0.000000   \n",
       "       2017-11-17 call AAPL171117C00002500  158.14  154.45  155.60  0.000000   \n",
       "       2018-01-19 call AAPL180119C00002500  158.13  154.40  155.60  0.000000   \n",
       "                  put  AAPL180119P00002500    0.02    0.00    0.02  0.000000   \n",
       "5.0    2017-09-15 call AAPL170915C00005000  155.30  156.15  156.75 -2.899994   \n",
       "\n",
       "                                              PctChg  \n",
       "Strike Expiry     Type Symbol                         \n",
       "2.5    2017-09-15 call AAPL170915C00002500  0.000000  \n",
       "       2017-11-17 call AAPL171117C00002500  0.000000  \n",
       "       2018-01-19 call AAPL180119C00002500  0.000000  \n",
       "                  put  AAPL180119P00002500  0.000000  \n",
       "5.0    2017-09-15 call AAPL170915C00005000 -1.833119  "
      ]
     },
     "execution_count": 3,
     "metadata": {},
     "output_type": "execute_result"
    }
   ],
   "source": [
    "from pandas_datareader.data import Options\n",
    "\n",
    "aapl = Options('aapl', 'yahoo')\n",
    "\n",
    "data = aapl.get_all_data()\n",
    "\n",
    "data.iloc[0:5, 0:5]"
   ]
  },
  {
   "cell_type": "markdown",
   "metadata": {},
   "source": [
    "Show the $100 strike puts at all expiry dates:\n"
   ]
  },
  {
   "cell_type": "code",
   "execution_count": 4,
   "metadata": {},
   "outputs": [
    {
     "data": {
      "text/html": [
       "<div>\n",
       "<table border=\"1\" class=\"dataframe\">\n",
       "  <thead>\n",
       "    <tr style=\"text-align: right;\">\n",
       "      <th></th>\n",
       "      <th></th>\n",
       "      <th></th>\n",
       "      <th></th>\n",
       "      <th>Last</th>\n",
       "      <th>Bid</th>\n",
       "      <th>Ask</th>\n",
       "      <th>Chg</th>\n",
       "      <th>PctChg</th>\n",
       "    </tr>\n",
       "    <tr>\n",
       "      <th>Strike</th>\n",
       "      <th>Expiry</th>\n",
       "      <th>Type</th>\n",
       "      <th>Symbol</th>\n",
       "      <th></th>\n",
       "      <th></th>\n",
       "      <th></th>\n",
       "      <th></th>\n",
       "      <th></th>\n",
       "    </tr>\n",
       "  </thead>\n",
       "  <tbody>\n",
       "    <tr>\n",
       "      <th rowspan=\"5\" valign=\"top\">100.0</th>\n",
       "      <th>2017-09-15</th>\n",
       "      <th>put</th>\n",
       "      <th>AAPL170915P00100000</th>\n",
       "      <td>0.01</td>\n",
       "      <td>0.00</td>\n",
       "      <td>0.01</td>\n",
       "      <td>0.00</td>\n",
       "      <td>0.000000</td>\n",
       "    </tr>\n",
       "    <tr>\n",
       "      <th>2017-10-20</th>\n",
       "      <th>put</th>\n",
       "      <th>AAPL171020P00100000</th>\n",
       "      <td>0.01</td>\n",
       "      <td>0.00</td>\n",
       "      <td>0.01</td>\n",
       "      <td>0.00</td>\n",
       "      <td>0.000000</td>\n",
       "    </tr>\n",
       "    <tr>\n",
       "      <th>2017-11-17</th>\n",
       "      <th>put</th>\n",
       "      <th>AAPL171117P00100000</th>\n",
       "      <td>0.04</td>\n",
       "      <td>0.03</td>\n",
       "      <td>0.06</td>\n",
       "      <td>0.02</td>\n",
       "      <td>100.000000</td>\n",
       "    </tr>\n",
       "    <tr>\n",
       "      <th>2017-12-15</th>\n",
       "      <th>put</th>\n",
       "      <th>AAPL171215P00100000</th>\n",
       "      <td>0.07</td>\n",
       "      <td>0.06</td>\n",
       "      <td>0.08</td>\n",
       "      <td>0.01</td>\n",
       "      <td>16.666670</td>\n",
       "    </tr>\n",
       "    <tr>\n",
       "      <th>2018-01-19</th>\n",
       "      <th>put</th>\n",
       "      <th>AAPL180119P00100000</th>\n",
       "      <td>0.16</td>\n",
       "      <td>0.15</td>\n",
       "      <td>0.16</td>\n",
       "      <td>-0.03</td>\n",
       "      <td>-15.789475</td>\n",
       "    </tr>\n",
       "  </tbody>\n",
       "</table>\n",
       "</div>"
      ],
      "text/plain": [
       "                                            Last   Bid   Ask   Chg      PctChg\n",
       "Strike Expiry     Type Symbol                                                 \n",
       "100.0  2017-09-15 put  AAPL170915P00100000  0.01  0.00  0.01  0.00    0.000000\n",
       "       2017-10-20 put  AAPL171020P00100000  0.01  0.00  0.01  0.00    0.000000\n",
       "       2017-11-17 put  AAPL171117P00100000  0.04  0.03  0.06  0.02  100.000000\n",
       "       2017-12-15 put  AAPL171215P00100000  0.07  0.06  0.08  0.01   16.666670\n",
       "       2018-01-19 put  AAPL180119P00100000  0.16  0.15  0.16 -0.03  -15.789475"
      ]
     },
     "execution_count": 4,
     "metadata": {},
     "output_type": "execute_result"
    }
   ],
   "source": [
    "data.loc[(100, slice(None), 'put'),:].iloc[0:5, 0:5]"
   ]
  },
  {
   "cell_type": "markdown",
   "metadata": {},
   "source": [
    "Show the volume traded of $100 strike puts at all expiry dates:\n"
   ]
  },
  {
   "cell_type": "code",
   "execution_count": 5,
   "metadata": {},
   "outputs": [
    {
     "data": {
      "text/plain": [
       "Strike  Expiry      Type  Symbol             \n",
       "100.0   2017-09-15  put   AAPL170915P00100000    594.0\n",
       "        2017-10-20  put   AAPL171020P00100000    150.0\n",
       "        2017-11-17  put   AAPL171117P00100000     25.0\n",
       "        2017-12-15  put   AAPL171215P00100000     11.0\n",
       "        2018-01-19  put   AAPL180119P00100000    415.0\n",
       "Name: Vol, dtype: float64"
      ]
     },
     "execution_count": 5,
     "metadata": {},
     "output_type": "execute_result"
    }
   ],
   "source": [
    "data.loc[(100, slice(None), 'put'),'Vol'].head()"
   ]
  },
  {
   "cell_type": "markdown",
   "metadata": {},
   "source": [
    "To select specific subset of data. If a given expiry date is not available, data for the next available expiry will be returned\n"
   ]
  },
  {
   "cell_type": "code",
   "execution_count": 6,
   "metadata": {},
   "outputs": [
    {
     "data": {
      "text/html": [
       "<div>\n",
       "<table border=\"1\" class=\"dataframe\">\n",
       "  <thead>\n",
       "    <tr style=\"text-align: right;\">\n",
       "      <th></th>\n",
       "      <th></th>\n",
       "      <th></th>\n",
       "      <th></th>\n",
       "      <th>Last</th>\n",
       "      <th>Bid</th>\n",
       "      <th>Ask</th>\n",
       "      <th>Chg</th>\n",
       "      <th>PctChg</th>\n",
       "    </tr>\n",
       "    <tr>\n",
       "      <th>Strike</th>\n",
       "      <th>Expiry</th>\n",
       "      <th>Type</th>\n",
       "      <th>Symbol</th>\n",
       "      <th></th>\n",
       "      <th></th>\n",
       "      <th></th>\n",
       "      <th></th>\n",
       "      <th></th>\n",
       "    </tr>\n",
       "  </thead>\n",
       "  <tbody>\n",
       "    <tr>\n",
       "      <th>2.5</th>\n",
       "      <th>2017-09-15</th>\n",
       "      <th>call</th>\n",
       "      <th>AAPL170915C00002500</th>\n",
       "      <td>161.55</td>\n",
       "      <td>161.20</td>\n",
       "      <td>161.85</td>\n",
       "      <td>0.000000</td>\n",
       "      <td>0.000000</td>\n",
       "    </tr>\n",
       "    <tr>\n",
       "      <th>5.0</th>\n",
       "      <th>2017-09-15</th>\n",
       "      <th>call</th>\n",
       "      <th>AAPL170915C00005000</th>\n",
       "      <td>155.30</td>\n",
       "      <td>156.15</td>\n",
       "      <td>156.75</td>\n",
       "      <td>-2.899994</td>\n",
       "      <td>-1.833119</td>\n",
       "    </tr>\n",
       "    <tr>\n",
       "      <th>7.5</th>\n",
       "      <th>2017-09-15</th>\n",
       "      <th>call</th>\n",
       "      <th>AAPL170915C00007500</th>\n",
       "      <td>151.70</td>\n",
       "      <td>151.95</td>\n",
       "      <td>152.85</td>\n",
       "      <td>0.000000</td>\n",
       "      <td>0.000000</td>\n",
       "    </tr>\n",
       "    <tr>\n",
       "      <th>10.0</th>\n",
       "      <th>2017-09-15</th>\n",
       "      <th>call</th>\n",
       "      <th>AAPL170915C00010000</th>\n",
       "      <td>150.63</td>\n",
       "      <td>146.90</td>\n",
       "      <td>148.10</td>\n",
       "      <td>0.000000</td>\n",
       "      <td>0.000000</td>\n",
       "    </tr>\n",
       "    <tr>\n",
       "      <th>15.0</th>\n",
       "      <th>2017-09-15</th>\n",
       "      <th>call</th>\n",
       "      <th>AAPL170915C00015000</th>\n",
       "      <td>145.63</td>\n",
       "      <td>141.90</td>\n",
       "      <td>143.10</td>\n",
       "      <td>0.000000</td>\n",
       "      <td>0.000000</td>\n",
       "    </tr>\n",
       "  </tbody>\n",
       "</table>\n",
       "</div>"
      ],
      "text/plain": [
       "                                              Last     Bid     Ask       Chg  \\\n",
       "Strike Expiry     Type Symbol                                                  \n",
       "2.5    2017-09-15 call AAPL170915C00002500  161.55  161.20  161.85  0.000000   \n",
       "5.0    2017-09-15 call AAPL170915C00005000  155.30  156.15  156.75 -2.899994   \n",
       "7.5    2017-09-15 call AAPL170915C00007500  151.70  151.95  152.85  0.000000   \n",
       "10.0   2017-09-15 call AAPL170915C00010000  150.63  146.90  148.10  0.000000   \n",
       "15.0   2017-09-15 call AAPL170915C00015000  145.63  141.90  143.10  0.000000   \n",
       "\n",
       "                                              PctChg  \n",
       "Strike Expiry     Type Symbol                         \n",
       "2.5    2017-09-15 call AAPL170915C00002500  0.000000  \n",
       "5.0    2017-09-15 call AAPL170915C00005000 -1.833119  \n",
       "7.5    2017-09-15 call AAPL170915C00007500  0.000000  \n",
       "10.0   2017-09-15 call AAPL170915C00010000  0.000000  \n",
       "15.0   2017-09-15 call AAPL170915C00015000  0.000000  "
      ]
     },
     "execution_count": 6,
     "metadata": {},
     "output_type": "execute_result"
    }
   ],
   "source": [
    " import datetime\n",
    "\n",
    "expiry = datetime.date(2016, 1, 1)\n",
    "\n",
    "data = aapl.get_call_data(expiry=expiry)\n",
    "\n",
    "data.iloc[0:5:, 0:5]"
   ]
  },
  {
   "cell_type": "markdown",
   "metadata": {},
   "source": [
    "Available expiry dates can be accessed from the expiry_dates property."
   ]
  },
  {
   "cell_type": "markdown",
   "metadata": {},
   "source": [
    "aapl.expiry_dates"
   ]
  },
  {
   "cell_type": "code",
   "execution_count": 7,
   "metadata": {},
   "outputs": [
    {
     "data": {
      "text/html": [
       "<div>\n",
       "<table border=\"1\" class=\"dataframe\">\n",
       "  <thead>\n",
       "    <tr style=\"text-align: right;\">\n",
       "      <th></th>\n",
       "      <th></th>\n",
       "      <th></th>\n",
       "      <th></th>\n",
       "      <th>Last</th>\n",
       "      <th>Bid</th>\n",
       "      <th>Ask</th>\n",
       "      <th>Chg</th>\n",
       "      <th>PctChg</th>\n",
       "    </tr>\n",
       "    <tr>\n",
       "      <th>Strike</th>\n",
       "      <th>Expiry</th>\n",
       "      <th>Type</th>\n",
       "      <th>Symbol</th>\n",
       "      <th></th>\n",
       "      <th></th>\n",
       "      <th></th>\n",
       "      <th></th>\n",
       "      <th></th>\n",
       "    </tr>\n",
       "  </thead>\n",
       "  <tbody>\n",
       "    <tr>\n",
       "      <th>141.0</th>\n",
       "      <th>2017-10-13</th>\n",
       "      <th>call</th>\n",
       "      <th>AAPL171013C00141000</th>\n",
       "      <td>20.90</td>\n",
       "      <td>20.75</td>\n",
       "      <td>21.30</td>\n",
       "      <td>-2.65</td>\n",
       "      <td>-11.252653</td>\n",
       "    </tr>\n",
       "    <tr>\n",
       "      <th>144.0</th>\n",
       "      <th>2017-10-13</th>\n",
       "      <th>call</th>\n",
       "      <th>AAPL171013C00144000</th>\n",
       "      <td>15.95</td>\n",
       "      <td>15.35</td>\n",
       "      <td>15.85</td>\n",
       "      <td>0.00</td>\n",
       "      <td>0.000000</td>\n",
       "    </tr>\n",
       "    <tr>\n",
       "      <th>147.0</th>\n",
       "      <th>2017-10-13</th>\n",
       "      <th>call</th>\n",
       "      <th>AAPL171013C00147000</th>\n",
       "      <td>15.75</td>\n",
       "      <td>12.80</td>\n",
       "      <td>13.25</td>\n",
       "      <td>0.00</td>\n",
       "      <td>0.000000</td>\n",
       "    </tr>\n",
       "    <tr>\n",
       "      <th>148.0</th>\n",
       "      <th>2017-10-13</th>\n",
       "      <th>call</th>\n",
       "      <th>AAPL171013C00148000</th>\n",
       "      <td>14.45</td>\n",
       "      <td>11.75</td>\n",
       "      <td>12.40</td>\n",
       "      <td>0.00</td>\n",
       "      <td>0.000000</td>\n",
       "    </tr>\n",
       "    <tr>\n",
       "      <th>150.0</th>\n",
       "      <th>2017-10-13</th>\n",
       "      <th>call</th>\n",
       "      <th>AAPL171013C00150000</th>\n",
       "      <td>12.83</td>\n",
       "      <td>12.50</td>\n",
       "      <td>12.95</td>\n",
       "      <td>-0.47</td>\n",
       "      <td>-3.533836</td>\n",
       "    </tr>\n",
       "  </tbody>\n",
       "</table>\n",
       "</div>"
      ],
      "text/plain": [
       "                                             Last    Bid    Ask   Chg  \\\n",
       "Strike Expiry     Type Symbol                                           \n",
       "141.0  2017-10-13 call AAPL171013C00141000  20.90  20.75  21.30 -2.65   \n",
       "144.0  2017-10-13 call AAPL171013C00144000  15.95  15.35  15.85  0.00   \n",
       "147.0  2017-10-13 call AAPL171013C00147000  15.75  12.80  13.25  0.00   \n",
       "148.0  2017-10-13 call AAPL171013C00148000  14.45  11.75  12.40  0.00   \n",
       "150.0  2017-10-13 call AAPL171013C00150000  12.83  12.50  12.95 -0.47   \n",
       "\n",
       "                                               PctChg  \n",
       "Strike Expiry     Type Symbol                          \n",
       "141.0  2017-10-13 call AAPL171013C00141000 -11.252653  \n",
       "144.0  2017-10-13 call AAPL171013C00144000   0.000000  \n",
       "147.0  2017-10-13 call AAPL171013C00147000   0.000000  \n",
       "148.0  2017-10-13 call AAPL171013C00148000   0.000000  \n",
       "150.0  2017-10-13 call AAPL171013C00150000  -3.533836  "
      ]
     },
     "execution_count": 7,
     "metadata": {},
     "output_type": "execute_result"
    }
   ],
   "source": [
    "#select the call option with the fifth expiry date\n",
    "data = aapl.get_call_data(expiry=aapl.expiry_dates[4])\n",
    "\n",
    "data.iloc[0:5:, 0:5]"
   ]
  },
  {
   "cell_type": "markdown",
   "metadata": {},
   "source": [
    "A list-like object containing dates can also be passed to the expiry parameter, returning options data for all expiry dates in the list."
   ]
  },
  {
   "cell_type": "code",
   "execution_count": 8,
   "metadata": {},
   "outputs": [
    {
     "data": {
      "text/html": [
       "<div>\n",
       "<table border=\"1\" class=\"dataframe\">\n",
       "  <thead>\n",
       "    <tr style=\"text-align: right;\">\n",
       "      <th></th>\n",
       "      <th></th>\n",
       "      <th></th>\n",
       "      <th></th>\n",
       "      <th>Last</th>\n",
       "      <th>Bid</th>\n",
       "      <th>Ask</th>\n",
       "      <th>Chg</th>\n",
       "      <th>PctChg</th>\n",
       "    </tr>\n",
       "    <tr>\n",
       "      <th>Strike</th>\n",
       "      <th>Expiry</th>\n",
       "      <th>Type</th>\n",
       "      <th>Symbol</th>\n",
       "      <th></th>\n",
       "      <th></th>\n",
       "      <th></th>\n",
       "      <th></th>\n",
       "      <th></th>\n",
       "    </tr>\n",
       "  </thead>\n",
       "  <tbody>\n",
       "    <tr>\n",
       "      <th rowspan=\"2\" valign=\"top\">160.0</th>\n",
       "      <th>2017-09-22</th>\n",
       "      <th>call</th>\n",
       "      <th>AAPL170922C00160000</th>\n",
       "      <td>4.00</td>\n",
       "      <td>4.00</td>\n",
       "      <td>4.05</td>\n",
       "      <td>1.26</td>\n",
       "      <td>45.985400</td>\n",
       "    </tr>\n",
       "    <tr>\n",
       "      <th>2017-09-29</th>\n",
       "      <th>call</th>\n",
       "      <th>AAPL170929C00160000</th>\n",
       "      <td>4.50</td>\n",
       "      <td>4.45</td>\n",
       "      <td>4.60</td>\n",
       "      <td>1.15</td>\n",
       "      <td>34.328360</td>\n",
       "    </tr>\n",
       "    <tr>\n",
       "      <th rowspan=\"3\" valign=\"top\">162.5</th>\n",
       "      <th>2017-09-15</th>\n",
       "      <th>call</th>\n",
       "      <th>AAPL170915C00162500</th>\n",
       "      <td>1.68</td>\n",
       "      <td>1.66</td>\n",
       "      <td>1.68</td>\n",
       "      <td>0.68</td>\n",
       "      <td>67.999990</td>\n",
       "    </tr>\n",
       "    <tr>\n",
       "      <th>2017-09-22</th>\n",
       "      <th>call</th>\n",
       "      <th>AAPL170922C00162500</th>\n",
       "      <td>2.67</td>\n",
       "      <td>2.65</td>\n",
       "      <td>2.70</td>\n",
       "      <td>0.88</td>\n",
       "      <td>49.162018</td>\n",
       "    </tr>\n",
       "    <tr>\n",
       "      <th>2017-09-29</th>\n",
       "      <th>call</th>\n",
       "      <th>AAPL170929C00162500</th>\n",
       "      <td>3.20</td>\n",
       "      <td>3.15</td>\n",
       "      <td>3.25</td>\n",
       "      <td>0.92</td>\n",
       "      <td>40.350880</td>\n",
       "    </tr>\n",
       "  </tbody>\n",
       "</table>\n",
       "</div>"
      ],
      "text/plain": [
       "                                            Last   Bid   Ask   Chg     PctChg\n",
       "Strike Expiry     Type Symbol                                                \n",
       "160.0  2017-09-22 call AAPL170922C00160000  4.00  4.00  4.05  1.26  45.985400\n",
       "       2017-09-29 call AAPL170929C00160000  4.50  4.45  4.60  1.15  34.328360\n",
       "162.5  2017-09-15 call AAPL170915C00162500  1.68  1.66  1.68  0.68  67.999990\n",
       "       2017-09-22 call AAPL170922C00162500  2.67  2.65  2.70  0.88  49.162018\n",
       "       2017-09-29 call AAPL170929C00162500  3.20  3.15  3.25  0.92  40.350880"
      ]
     },
     "execution_count": 8,
     "metadata": {},
     "output_type": "execute_result"
    }
   ],
   "source": [
    "data = aapl.get_near_stock_price(expiry=aapl.expiry_dates[0:3])\n",
    "\n",
    "data.iloc[0:5:, 0:5]"
   ]
  },
  {
   "cell_type": "markdown",
   "metadata": {},
   "source": [
    "## Google Finance"
   ]
  },
  {
   "cell_type": "code",
   "execution_count": 11,
   "metadata": {},
   "outputs": [
    {
     "data": {
      "text/html": [
       "<div>\n",
       "<table border=\"1\" class=\"dataframe\">\n",
       "  <thead>\n",
       "    <tr style=\"text-align: right;\">\n",
       "      <th></th>\n",
       "      <th>Open</th>\n",
       "      <th>High</th>\n",
       "      <th>Low</th>\n",
       "      <th>Close</th>\n",
       "      <th>Volume</th>\n",
       "    </tr>\n",
       "    <tr>\n",
       "      <th>Date</th>\n",
       "      <th></th>\n",
       "      <th></th>\n",
       "      <th></th>\n",
       "      <th></th>\n",
       "      <th></th>\n",
       "    </tr>\n",
       "  </thead>\n",
       "  <tbody>\n",
       "    <tr>\n",
       "      <th>2016-09-13</th>\n",
       "      <td>107.51</td>\n",
       "      <td>108.79</td>\n",
       "      <td>107.24</td>\n",
       "      <td>107.95</td>\n",
       "      <td>62176190</td>\n",
       "    </tr>\n",
       "    <tr>\n",
       "      <th>2016-09-14</th>\n",
       "      <td>108.73</td>\n",
       "      <td>113.03</td>\n",
       "      <td>108.60</td>\n",
       "      <td>111.77</td>\n",
       "      <td>112340318</td>\n",
       "    </tr>\n",
       "    <tr>\n",
       "      <th>2016-09-15</th>\n",
       "      <td>113.86</td>\n",
       "      <td>115.73</td>\n",
       "      <td>113.49</td>\n",
       "      <td>115.57</td>\n",
       "      <td>90613177</td>\n",
       "    </tr>\n",
       "    <tr>\n",
       "      <th>2016-09-16</th>\n",
       "      <td>115.12</td>\n",
       "      <td>116.13</td>\n",
       "      <td>114.04</td>\n",
       "      <td>114.92</td>\n",
       "      <td>79886911</td>\n",
       "    </tr>\n",
       "    <tr>\n",
       "      <th>2016-09-19</th>\n",
       "      <td>115.19</td>\n",
       "      <td>116.18</td>\n",
       "      <td>113.25</td>\n",
       "      <td>113.58</td>\n",
       "      <td>47023046</td>\n",
       "    </tr>\n",
       "  </tbody>\n",
       "</table>\n",
       "</div>"
      ],
      "text/plain": [
       "              Open    High     Low   Close     Volume\n",
       "Date                                                 \n",
       "2016-09-13  107.51  108.79  107.24  107.95   62176190\n",
       "2016-09-14  108.73  113.03  108.60  111.77  112340318\n",
       "2016-09-15  113.86  115.73  113.49  115.57   90613177\n",
       "2016-09-16  115.12  116.13  114.04  114.92   79886911\n",
       "2016-09-19  115.19  116.18  113.25  113.58   47023046"
      ]
     },
     "execution_count": 11,
     "metadata": {},
     "output_type": "execute_result"
    }
   ],
   "source": [
    "import pandas_datareader.data as web\n",
    "\n",
    "import datetime\n",
    "\n",
    "start = datetime.datetime(2017, 1, 1)\n",
    "\n",
    "end = datetime.datetime(2017, 7, 25)\n",
    "\n",
    "f = web.DataReader(\"AAPL\", 'google', start, end)\n",
    "\n",
    "f.head()"
   ]
  },
  {
   "cell_type": "markdown",
   "metadata": {},
   "source": [
    "f.ix['2017-01-04']"
   ]
  },
  {
   "cell_type": "markdown",
   "metadata": {},
   "source": [
    "### Google Finance Quotes\n",
    "\n",
    "\n",
    "The GoogleQuotesReader class allows to get quotes data from Google Finance.\n",
    "\n"
   ]
  },
  {
   "cell_type": "code",
   "execution_count": 12,
   "metadata": {},
   "outputs": [
    {
     "ename": "RemoteDataError",
     "evalue": "Unable to read URL: http://www.google.com/finance/info?q=AMZN%2CGOOG",
     "output_type": "error",
     "traceback": [
      "\u001b[0;31m---------------------------------------------------------------------------\u001b[0m",
      "\u001b[0;31mRemoteDataError\u001b[0m                           Traceback (most recent call last)",
      "\u001b[0;32m<ipython-input-12-869d659dda79>\u001b[0m in \u001b[0;36m<module>\u001b[0;34m()\u001b[0m\n\u001b[1;32m      1\u001b[0m \u001b[0;32mimport\u001b[0m \u001b[0mpandas_datareader\u001b[0m\u001b[0;34m.\u001b[0m\u001b[0mdata\u001b[0m \u001b[0;32mas\u001b[0m \u001b[0mweb\u001b[0m\u001b[0;34m\u001b[0m\u001b[0m\n\u001b[1;32m      2\u001b[0m \u001b[0;34m\u001b[0m\u001b[0m\n\u001b[0;32m----> 3\u001b[0;31m \u001b[0mh\u001b[0m \u001b[0;34m=\u001b[0m \u001b[0mweb\u001b[0m\u001b[0;34m.\u001b[0m\u001b[0mget_quote_google\u001b[0m\u001b[0;34m(\u001b[0m\u001b[0;34m[\u001b[0m\u001b[0;34m'AMZN'\u001b[0m\u001b[0;34m,\u001b[0m \u001b[0;34m'GOOG'\u001b[0m\u001b[0;34m]\u001b[0m\u001b[0;34m)\u001b[0m\u001b[0;34m\u001b[0m\u001b[0m\n\u001b[0m\u001b[1;32m      4\u001b[0m \u001b[0;34m\u001b[0m\u001b[0m\n\u001b[1;32m      5\u001b[0m \u001b[0mh\u001b[0m\u001b[0;34m\u001b[0m\u001b[0m\n",
      "\u001b[0;32m/Users/nanaakwasiabayieboateng/anaconda/lib/python3.6/site-packages/pandas_datareader/data.py\u001b[0m in \u001b[0;36mget_quote_google\u001b[0;34m(*args, **kwargs)\u001b[0m\n\u001b[1;32m     54\u001b[0m \u001b[0;34m\u001b[0m\u001b[0m\n\u001b[1;32m     55\u001b[0m \u001b[0;32mdef\u001b[0m \u001b[0mget_quote_google\u001b[0m\u001b[0;34m(\u001b[0m\u001b[0;34m*\u001b[0m\u001b[0margs\u001b[0m\u001b[0;34m,\u001b[0m \u001b[0;34m**\u001b[0m\u001b[0mkwargs\u001b[0m\u001b[0;34m)\u001b[0m\u001b[0;34m:\u001b[0m\u001b[0;34m\u001b[0m\u001b[0m\n\u001b[0;32m---> 56\u001b[0;31m     \u001b[0;32mreturn\u001b[0m \u001b[0mGoogleQuotesReader\u001b[0m\u001b[0;34m(\u001b[0m\u001b[0;34m*\u001b[0m\u001b[0margs\u001b[0m\u001b[0;34m,\u001b[0m \u001b[0;34m**\u001b[0m\u001b[0mkwargs\u001b[0m\u001b[0;34m)\u001b[0m\u001b[0;34m.\u001b[0m\u001b[0mread\u001b[0m\u001b[0;34m(\u001b[0m\u001b[0;34m)\u001b[0m\u001b[0;34m\u001b[0m\u001b[0m\n\u001b[0m\u001b[1;32m     57\u001b[0m \u001b[0;34m\u001b[0m\u001b[0m\n\u001b[1;32m     58\u001b[0m \u001b[0;34m\u001b[0m\u001b[0m\n",
      "\u001b[0;32m/Users/nanaakwasiabayieboateng/anaconda/lib/python3.6/site-packages/pandas_datareader/base.py\u001b[0m in \u001b[0;36mread\u001b[0;34m(self)\u001b[0m\n\u001b[1;32m     70\u001b[0m         \u001b[0;34m\"\"\" read data \"\"\"\u001b[0m\u001b[0;34m\u001b[0m\u001b[0m\n\u001b[1;32m     71\u001b[0m         \u001b[0;32mtry\u001b[0m\u001b[0;34m:\u001b[0m\u001b[0;34m\u001b[0m\u001b[0m\n\u001b[0;32m---> 72\u001b[0;31m             \u001b[0;32mreturn\u001b[0m \u001b[0mself\u001b[0m\u001b[0;34m.\u001b[0m\u001b[0m_read_one_data\u001b[0m\u001b[0;34m(\u001b[0m\u001b[0mself\u001b[0m\u001b[0;34m.\u001b[0m\u001b[0murl\u001b[0m\u001b[0;34m,\u001b[0m \u001b[0mself\u001b[0m\u001b[0;34m.\u001b[0m\u001b[0mparams\u001b[0m\u001b[0;34m)\u001b[0m\u001b[0;34m\u001b[0m\u001b[0m\n\u001b[0m\u001b[1;32m     73\u001b[0m         \u001b[0;32mfinally\u001b[0m\u001b[0;34m:\u001b[0m\u001b[0;34m\u001b[0m\u001b[0m\n\u001b[1;32m     74\u001b[0m             \u001b[0mself\u001b[0m\u001b[0;34m.\u001b[0m\u001b[0mclose\u001b[0m\u001b[0;34m(\u001b[0m\u001b[0;34m)\u001b[0m\u001b[0;34m\u001b[0m\u001b[0m\n",
      "\u001b[0;32m/Users/nanaakwasiabayieboateng/anaconda/lib/python3.6/site-packages/pandas_datareader/base.py\u001b[0m in \u001b[0;36m_read_one_data\u001b[0;34m(self, url, params)\u001b[0m\n\u001b[1;32m     77\u001b[0m         \u001b[0;34m\"\"\" read one data from specified URL \"\"\"\u001b[0m\u001b[0;34m\u001b[0m\u001b[0m\n\u001b[1;32m     78\u001b[0m         \u001b[0;32mif\u001b[0m \u001b[0mself\u001b[0m\u001b[0;34m.\u001b[0m\u001b[0m_format\u001b[0m \u001b[0;34m==\u001b[0m \u001b[0;34m'string'\u001b[0m\u001b[0;34m:\u001b[0m\u001b[0;34m\u001b[0m\u001b[0m\n\u001b[0;32m---> 79\u001b[0;31m             \u001b[0mout\u001b[0m \u001b[0;34m=\u001b[0m \u001b[0mself\u001b[0m\u001b[0;34m.\u001b[0m\u001b[0m_read_url_as_StringIO\u001b[0m\u001b[0;34m(\u001b[0m\u001b[0murl\u001b[0m\u001b[0;34m,\u001b[0m \u001b[0mparams\u001b[0m\u001b[0;34m=\u001b[0m\u001b[0mparams\u001b[0m\u001b[0;34m)\u001b[0m\u001b[0;34m\u001b[0m\u001b[0m\n\u001b[0m\u001b[1;32m     80\u001b[0m         \u001b[0;32melif\u001b[0m \u001b[0mself\u001b[0m\u001b[0;34m.\u001b[0m\u001b[0m_format\u001b[0m \u001b[0;34m==\u001b[0m \u001b[0;34m'json'\u001b[0m\u001b[0;34m:\u001b[0m\u001b[0;34m\u001b[0m\u001b[0m\n\u001b[1;32m     81\u001b[0m             \u001b[0mout\u001b[0m \u001b[0;34m=\u001b[0m \u001b[0mself\u001b[0m\u001b[0;34m.\u001b[0m\u001b[0m_get_response\u001b[0m\u001b[0;34m(\u001b[0m\u001b[0murl\u001b[0m\u001b[0;34m,\u001b[0m \u001b[0mparams\u001b[0m\u001b[0;34m=\u001b[0m\u001b[0mparams\u001b[0m\u001b[0;34m)\u001b[0m\u001b[0;34m.\u001b[0m\u001b[0mjson\u001b[0m\u001b[0;34m(\u001b[0m\u001b[0;34m)\u001b[0m\u001b[0;34m\u001b[0m\u001b[0m\n",
      "\u001b[0;32m/Users/nanaakwasiabayieboateng/anaconda/lib/python3.6/site-packages/pandas_datareader/base.py\u001b[0m in \u001b[0;36m_read_url_as_StringIO\u001b[0;34m(self, url, params)\u001b[0m\n\u001b[1;32m     88\u001b[0m         \u001b[0mOpen\u001b[0m \u001b[0murl\u001b[0m \u001b[0;34m(\u001b[0m\u001b[0;32mand\u001b[0m \u001b[0mretry\u001b[0m\u001b[0;34m)\u001b[0m\u001b[0;34m\u001b[0m\u001b[0m\n\u001b[1;32m     89\u001b[0m         \"\"\"\n\u001b[0;32m---> 90\u001b[0;31m         \u001b[0mresponse\u001b[0m \u001b[0;34m=\u001b[0m \u001b[0mself\u001b[0m\u001b[0;34m.\u001b[0m\u001b[0m_get_response\u001b[0m\u001b[0;34m(\u001b[0m\u001b[0murl\u001b[0m\u001b[0;34m,\u001b[0m \u001b[0mparams\u001b[0m\u001b[0;34m=\u001b[0m\u001b[0mparams\u001b[0m\u001b[0;34m)\u001b[0m\u001b[0;34m\u001b[0m\u001b[0m\n\u001b[0m\u001b[1;32m     91\u001b[0m         \u001b[0mtext\u001b[0m \u001b[0;34m=\u001b[0m \u001b[0mself\u001b[0m\u001b[0;34m.\u001b[0m\u001b[0m_sanitize_response\u001b[0m\u001b[0;34m(\u001b[0m\u001b[0mresponse\u001b[0m\u001b[0;34m)\u001b[0m\u001b[0;34m\u001b[0m\u001b[0m\n\u001b[1;32m     92\u001b[0m         \u001b[0mout\u001b[0m \u001b[0;34m=\u001b[0m \u001b[0mStringIO\u001b[0m\u001b[0;34m(\u001b[0m\u001b[0;34m)\u001b[0m\u001b[0;34m\u001b[0m\u001b[0m\n",
      "\u001b[0;32m/Users/nanaakwasiabayieboateng/anaconda/lib/python3.6/site-packages/pandas_datareader/base.py\u001b[0m in \u001b[0;36m_get_response\u001b[0;34m(self, url, params, headers)\u001b[0m\n\u001b[1;32m    137\u001b[0m         \u001b[0;32mif\u001b[0m \u001b[0mparams\u001b[0m \u001b[0;32mis\u001b[0m \u001b[0;32mnot\u001b[0m \u001b[0;32mNone\u001b[0m \u001b[0;32mand\u001b[0m \u001b[0mlen\u001b[0m\u001b[0;34m(\u001b[0m\u001b[0mparams\u001b[0m\u001b[0;34m)\u001b[0m \u001b[0;34m>\u001b[0m \u001b[0;36m0\u001b[0m\u001b[0;34m:\u001b[0m\u001b[0;34m\u001b[0m\u001b[0m\n\u001b[1;32m    138\u001b[0m             \u001b[0murl\u001b[0m \u001b[0;34m=\u001b[0m \u001b[0murl\u001b[0m \u001b[0;34m+\u001b[0m \u001b[0;34m\"?\"\u001b[0m \u001b[0;34m+\u001b[0m \u001b[0murlencode\u001b[0m\u001b[0;34m(\u001b[0m\u001b[0mparams\u001b[0m\u001b[0;34m)\u001b[0m\u001b[0;34m\u001b[0m\u001b[0m\n\u001b[0;32m--> 139\u001b[0;31m         \u001b[0;32mraise\u001b[0m \u001b[0mRemoteDataError\u001b[0m\u001b[0;34m(\u001b[0m\u001b[0;34m'Unable to read URL: {0}'\u001b[0m\u001b[0;34m.\u001b[0m\u001b[0mformat\u001b[0m\u001b[0;34m(\u001b[0m\u001b[0murl\u001b[0m\u001b[0;34m)\u001b[0m\u001b[0;34m)\u001b[0m\u001b[0;34m\u001b[0m\u001b[0m\n\u001b[0m\u001b[1;32m    140\u001b[0m \u001b[0;34m\u001b[0m\u001b[0m\n\u001b[1;32m    141\u001b[0m     \u001b[0;32mdef\u001b[0m \u001b[0m_get_crumb\u001b[0m\u001b[0;34m(\u001b[0m\u001b[0mself\u001b[0m\u001b[0;34m,\u001b[0m \u001b[0;34m*\u001b[0m\u001b[0margs\u001b[0m\u001b[0;34m)\u001b[0m\u001b[0;34m:\u001b[0m\u001b[0;34m\u001b[0m\u001b[0m\n",
      "\u001b[0;31mRemoteDataError\u001b[0m: Unable to read URL: http://www.google.com/finance/info?q=AMZN%2CGOOG"
     ]
    }
   ],
   "source": [
    "import pandas_datareader.data as web\n",
    "\n",
    "h = web.get_quote_google(['AMZN', 'GOOG'])\n",
    "\n",
    "h"
   ]
  },
  {
   "cell_type": "markdown",
   "metadata": {},
   "source": [
    "### Google Finance Options\n",
    "\n",
    "*Experimental*\n",
    "\n",
    "The Options class allows the download of options data from Google Finance.\n",
    "\n",
    "The get_options_data method downloads options data for specified expiry date and provides a formatted DataFrame with a hierarchical index, so its easy to get to the specific option you want.\n",
    "\n",
    "Available expiry dates can be accessed from the expiry_dates property."
   ]
  },
  {
   "cell_type": "code",
   "execution_count": 13,
   "metadata": {},
   "outputs": [
    {
     "data": {
      "text/html": [
       "<div>\n",
       "<table border=\"1\" class=\"dataframe\">\n",
       "  <thead>\n",
       "    <tr style=\"text-align: right;\">\n",
       "      <th></th>\n",
       "      <th></th>\n",
       "      <th></th>\n",
       "      <th></th>\n",
       "      <th>Last</th>\n",
       "      <th>Bid</th>\n",
       "      <th>Ask</th>\n",
       "      <th>Chg</th>\n",
       "      <th>PctChg</th>\n",
       "    </tr>\n",
       "    <tr>\n",
       "      <th>Strike</th>\n",
       "      <th>Expiry</th>\n",
       "      <th>Type</th>\n",
       "      <th>Symbol</th>\n",
       "      <th></th>\n",
       "      <th></th>\n",
       "      <th></th>\n",
       "      <th></th>\n",
       "      <th></th>\n",
       "    </tr>\n",
       "  </thead>\n",
       "  <tbody>\n",
       "    <tr>\n",
       "      <th rowspan=\"2\" valign=\"top\">340.0</th>\n",
       "      <th rowspan=\"2\" valign=\"top\">2018-01-19</th>\n",
       "      <th>call</th>\n",
       "      <th>GOOG180119C00340000</th>\n",
       "      <td>584.00</td>\n",
       "      <td>588.50</td>\n",
       "      <td>593.00</td>\n",
       "      <td>0.0</td>\n",
       "      <td>0.0</td>\n",
       "    </tr>\n",
       "    <tr>\n",
       "      <th>put</th>\n",
       "      <th>GOOG180119P00340000</th>\n",
       "      <td>0.10</td>\n",
       "      <td>NaN</td>\n",
       "      <td>0.25</td>\n",
       "      <td>0.0</td>\n",
       "      <td>0.0</td>\n",
       "    </tr>\n",
       "    <tr>\n",
       "      <th rowspan=\"2\" valign=\"top\">350.0</th>\n",
       "      <th rowspan=\"2\" valign=\"top\">2018-01-19</th>\n",
       "      <th>call</th>\n",
       "      <th>GOOG180119C00350000</th>\n",
       "      <td>577.90</td>\n",
       "      <td>578.50</td>\n",
       "      <td>580.70</td>\n",
       "      <td>0.0</td>\n",
       "      <td>0.0</td>\n",
       "    </tr>\n",
       "    <tr>\n",
       "      <th>put</th>\n",
       "      <th>GOOG180119P00350000</th>\n",
       "      <td>0.06</td>\n",
       "      <td>0.05</td>\n",
       "      <td>0.90</td>\n",
       "      <td>0.0</td>\n",
       "      <td>0.0</td>\n",
       "    </tr>\n",
       "    <tr>\n",
       "      <th>360.0</th>\n",
       "      <th>2018-01-19</th>\n",
       "      <th>call</th>\n",
       "      <th>GOOG180119C00360000</th>\n",
       "      <td>612.40</td>\n",
       "      <td>568.70</td>\n",
       "      <td>573.30</td>\n",
       "      <td>0.0</td>\n",
       "      <td>0.0</td>\n",
       "    </tr>\n",
       "  </tbody>\n",
       "</table>\n",
       "</div>"
      ],
      "text/plain": [
       "                                              Last     Bid     Ask  Chg  \\\n",
       "Strike Expiry     Type Symbol                                             \n",
       "340.0  2018-01-19 call GOOG180119C00340000  584.00  588.50  593.00  0.0   \n",
       "                  put  GOOG180119P00340000    0.10     NaN    0.25  0.0   \n",
       "350.0  2018-01-19 call GOOG180119C00350000  577.90  578.50  580.70  0.0   \n",
       "                  put  GOOG180119P00350000    0.06    0.05    0.90  0.0   \n",
       "360.0  2018-01-19 call GOOG180119C00360000  612.40  568.70  573.30  0.0   \n",
       "\n",
       "                                            PctChg  \n",
       "Strike Expiry     Type Symbol                       \n",
       "340.0  2018-01-19 call GOOG180119C00340000     0.0  \n",
       "                  put  GOOG180119P00340000     0.0  \n",
       "350.0  2018-01-19 call GOOG180119C00350000     0.0  \n",
       "                  put  GOOG180119P00350000     0.0  \n",
       "360.0  2018-01-19 call GOOG180119C00360000     0.0  "
      ]
     },
     "execution_count": 13,
     "metadata": {},
     "output_type": "execute_result"
    }
   ],
   "source": [
    "from pandas_datareader.data import Options\n",
    "\n",
    "goog = Options('goog', 'google')\n",
    "\n",
    "data = goog.get_options_data(expiry=goog.expiry_dates[0])\n",
    "\n",
    "data.iloc[0:5, 0:5]"
   ]
  },
  {
   "cell_type": "markdown",
   "metadata": {},
   "source": [
    "### Enigma\n",
    "Access datasets from Enigma, the world’s largest repository of structured public data.\n",
    "\n"
   ]
  },
  {
   "cell_type": "code",
   "execution_count": 14,
   "metadata": {
    "collapsed": true
   },
   "outputs": [],
   "source": [
    "import os\n",
    "\n",
    "import pandas_datareader as pdr\n",
    "\n",
    "#df = pdr.get_data_enigma('enigma.trade.ams.toxic.2015', os.getenv('ENIGMA_API_KEY'))\n",
    "#get API key from enigma"
   ]
  },
  {
   "cell_type": "code",
   "execution_count": 21,
   "metadata": {
    "collapsed": true
   },
   "outputs": [],
   "source": [
    " #df.columns"
   ]
  },
  {
   "cell_type": "markdown",
   "metadata": {},
   "source": [
    "### FRED"
   ]
  },
  {
   "cell_type": "code",
   "execution_count": 24,
   "metadata": {},
   "outputs": [
    {
     "data": {
      "text/plain": [
       "GDP    16475.4\n",
       "Name: 2013-01-01 00:00:00, dtype: float64"
      ]
     },
     "execution_count": 24,
     "metadata": {},
     "output_type": "execute_result"
    }
   ],
   "source": [
    " import pandas_datareader.data as web\n",
    "\n",
    " import datetime\n",
    "\n",
    "start = datetime.datetime(2010, 1, 1)\n",
    "\n",
    "end = datetime.datetime(2017, 1, 27)\n",
    "\n",
    "gdp = web.DataReader(\"GDP\", \"fred\", start, end)\n",
    "\n",
    " gdp.ix['2013-01-01']"
   ]
  },
  {
   "cell_type": "code",
   "execution_count": 26,
   "metadata": {},
   "outputs": [
    {
     "data": {
      "text/html": [
       "<div>\n",
       "<table border=\"1\" class=\"dataframe\">\n",
       "  <thead>\n",
       "    <tr style=\"text-align: right;\">\n",
       "      <th></th>\n",
       "      <th>GDP</th>\n",
       "    </tr>\n",
       "    <tr>\n",
       "      <th>DATE</th>\n",
       "      <th></th>\n",
       "    </tr>\n",
       "  </thead>\n",
       "  <tbody>\n",
       "    <tr>\n",
       "      <th>2016-01-01</th>\n",
       "      <td>18281.6</td>\n",
       "    </tr>\n",
       "    <tr>\n",
       "      <th>2016-04-01</th>\n",
       "      <td>18450.1</td>\n",
       "    </tr>\n",
       "    <tr>\n",
       "      <th>2016-07-01</th>\n",
       "      <td>18675.3</td>\n",
       "    </tr>\n",
       "    <tr>\n",
       "      <th>2016-10-01</th>\n",
       "      <td>18869.4</td>\n",
       "    </tr>\n",
       "    <tr>\n",
       "      <th>2017-01-01</th>\n",
       "      <td>19027.1</td>\n",
       "    </tr>\n",
       "  </tbody>\n",
       "</table>\n",
       "</div>"
      ],
      "text/plain": [
       "                GDP\n",
       "DATE               \n",
       "2016-01-01  18281.6\n",
       "2016-04-01  18450.1\n",
       "2016-07-01  18675.3\n",
       "2016-10-01  18869.4\n",
       "2017-01-01  19027.1"
      ]
     },
     "execution_count": 26,
     "metadata": {},
     "output_type": "execute_result"
    }
   ],
   "source": [
    "gdp.tail()"
   ]
  },
  {
   "cell_type": "markdown",
   "metadata": {},
   "source": [
    "### Fama/French\n",
    "Access datasets from the Fama/French Data Library. The get_available_datasets function returns a list of all available datasets."
   ]
  },
  {
   "cell_type": "code",
   "execution_count": 28,
   "metadata": {},
   "outputs": [
    {
     "data": {
      "text/plain": [
       "262"
      ]
     },
     "execution_count": 28,
     "metadata": {},
     "output_type": "execute_result"
    }
   ],
   "source": [
    "from pandas_datareader.famafrench import get_available_datasets\n",
    "\n",
    "import pandas_datareader.data as web\n",
    "\n",
    "len(get_available_datasets())\n",
    "\n",
    "\n"
   ]
  },
  {
   "cell_type": "code",
   "execution_count": 29,
   "metadata": {},
   "outputs": [
    {
     "name": "stdout",
     "output_type": "stream",
     "text": [
      "5 Industry Portfolios\n",
      "---------------------\n",
      "\n",
      "This file was created by CMPT_IND_RETS using the 201705 CRSP database. It contains value- and equal-weighted returns for 5 industry portfolios. The portfolios are constructed at the end of June. The annual returns are from January to December. Missing data are indicated by -99.99 or -999. Copyright 2017 Kenneth R. French\n",
      "\n",
      "  0 : Average Value Weighted Returns -- Monthly (89 rows x 5 cols)\n",
      "  1 : Average Equal Weighted Returns -- Monthly (89 rows x 5 cols)\n",
      "  2 : Average Value Weighted Returns -- Annual (7 rows x 5 cols)\n",
      "  3 : Average Equal Weighted Returns -- Annual (7 rows x 5 cols)\n",
      "  4 : Number of Firms in Portfolios (89 rows x 5 cols)\n",
      "  5 : Average Firm Size (89 rows x 5 cols)\n",
      "  6 : Sum of BE / Sum of ME (7 rows x 5 cols)\n",
      "  7 : Value-Weighted Average of BE/ME (7 rows x 5 cols)\n"
     ]
    }
   ],
   "source": [
    "ds = web.DataReader(\"5_Industry_Portfolios\", \"famafrench\")\n",
    "\n",
    "print(ds['DESCR'])"
   ]
  },
  {
   "cell_type": "code",
   "execution_count": 31,
   "metadata": {},
   "outputs": [
    {
     "data": {
      "text/html": [
       "<div>\n",
       "<table border=\"1\" class=\"dataframe\">\n",
       "  <thead>\n",
       "    <tr style=\"text-align: right;\">\n",
       "      <th></th>\n",
       "      <th>Cnsmr</th>\n",
       "      <th>Manuf</th>\n",
       "      <th>HiTec</th>\n",
       "      <th>Hlth</th>\n",
       "      <th>Other</th>\n",
       "    </tr>\n",
       "    <tr>\n",
       "      <th>Date</th>\n",
       "      <th></th>\n",
       "      <th></th>\n",
       "      <th></th>\n",
       "      <th></th>\n",
       "      <th></th>\n",
       "    </tr>\n",
       "  </thead>\n",
       "  <tbody>\n",
       "    <tr>\n",
       "      <th>2010-01</th>\n",
       "      <td>622</td>\n",
       "      <td>737</td>\n",
       "      <td>835</td>\n",
       "      <td>468</td>\n",
       "      <td>1236</td>\n",
       "    </tr>\n",
       "    <tr>\n",
       "      <th>2010-02</th>\n",
       "      <td>620</td>\n",
       "      <td>734</td>\n",
       "      <td>826</td>\n",
       "      <td>465</td>\n",
       "      <td>1225</td>\n",
       "    </tr>\n",
       "    <tr>\n",
       "      <th>2010-03</th>\n",
       "      <td>614</td>\n",
       "      <td>729</td>\n",
       "      <td>823</td>\n",
       "      <td>459</td>\n",
       "      <td>1219</td>\n",
       "    </tr>\n",
       "    <tr>\n",
       "      <th>2010-04</th>\n",
       "      <td>614</td>\n",
       "      <td>726</td>\n",
       "      <td>812</td>\n",
       "      <td>459</td>\n",
       "      <td>1207</td>\n",
       "    </tr>\n",
       "    <tr>\n",
       "      <th>2010-05</th>\n",
       "      <td>611</td>\n",
       "      <td>723</td>\n",
       "      <td>809</td>\n",
       "      <td>458</td>\n",
       "      <td>1199</td>\n",
       "    </tr>\n",
       "  </tbody>\n",
       "</table>\n",
       "</div>"
      ],
      "text/plain": [
       "         Cnsmr  Manuf  HiTec  Hlth   Other\n",
       "Date                                      \n",
       "2010-01    622    737    835    468   1236\n",
       "2010-02    620    734    826    465   1225\n",
       "2010-03    614    729    823    459   1219\n",
       "2010-04    614    726    812    459   1207\n",
       "2010-05    611    723    809    458   1199"
      ]
     },
     "execution_count": 31,
     "metadata": {},
     "output_type": "execute_result"
    }
   ],
   "source": [
    "ds[4].head()\n"
   ]
  },
  {
   "cell_type": "code",
   "execution_count": 32,
   "metadata": {},
   "outputs": [
    {
     "data": {
      "text/plain": [
       "Cnsmr     576\n",
       "Manuf     677\n",
       "HiTec     751\n",
       "Hlth      425\n",
       "Other    1100\n",
       "Name: 2013-01, dtype: int64"
      ]
     },
     "execution_count": 32,
     "metadata": {},
     "output_type": "execute_result"
    }
   ],
   "source": [
    "ds[4].ix['2013-01-01']"
   ]
  },
  {
   "cell_type": "markdown",
   "metadata": {},
   "source": [
    "### World Bank\n",
    "pandas users can easily access thousands of panel data series from the World Bank’s World Development Indicators by using the wb I/O functions.\n",
    "\n",
    "#### Indicators\n",
    "Either from exploring the World Bank site, or using the search function included, every world bank indicator is accessible.\n",
    "\n",
    "For example, if you wanted to compare the Gross Domestic Products per capita in constant dollars in North America, you would use the search function:"
   ]
  },
  {
   "cell_type": "code",
   "execution_count": 35,
   "metadata": {},
   "outputs": [
    {
     "data": {
      "text/html": [
       "<div>\n",
       "<table border=\"1\" class=\"dataframe\">\n",
       "  <thead>\n",
       "    <tr style=\"text-align: right;\">\n",
       "      <th></th>\n",
       "      <th>id</th>\n",
       "      <th>name</th>\n",
       "    </tr>\n",
       "  </thead>\n",
       "  <tbody>\n",
       "    <tr>\n",
       "      <th>685</th>\n",
       "      <td>6.0.GDPpc_constant</td>\n",
       "      <td>GDP per capita, PPP (constant 2011 internation...</td>\n",
       "    </tr>\n",
       "    <tr>\n",
       "      <th>8097</th>\n",
       "      <td>NY.GDP.PCAP.KD</td>\n",
       "      <td>GDP per capita (constant 2010 US$)</td>\n",
       "    </tr>\n",
       "    <tr>\n",
       "      <th>8099</th>\n",
       "      <td>NY.GDP.PCAP.KN</td>\n",
       "      <td>GDP per capita (constant LCU)</td>\n",
       "    </tr>\n",
       "    <tr>\n",
       "      <th>8101</th>\n",
       "      <td>NY.GDP.PCAP.PP.KD</td>\n",
       "      <td>GDP per capita, PPP (constant 2011 internation...</td>\n",
       "    </tr>\n",
       "    <tr>\n",
       "      <th>8102</th>\n",
       "      <td>NY.GDP.PCAP.PP.KD.87</td>\n",
       "      <td>GDP per capita, PPP (constant 1987 internation...</td>\n",
       "    </tr>\n",
       "  </tbody>\n",
       "</table>\n",
       "</div>"
      ],
      "text/plain": [
       "                        id                                               name\n",
       "685     6.0.GDPpc_constant  GDP per capita, PPP (constant 2011 internation...\n",
       "8097        NY.GDP.PCAP.KD                 GDP per capita (constant 2010 US$)\n",
       "8099        NY.GDP.PCAP.KN                      GDP per capita (constant LCU)\n",
       "8101     NY.GDP.PCAP.PP.KD  GDP per capita, PPP (constant 2011 internation...\n",
       "8102  NY.GDP.PCAP.PP.KD.87  GDP per capita, PPP (constant 1987 internation..."
      ]
     },
     "execution_count": 35,
     "metadata": {},
     "output_type": "execute_result"
    }
   ],
   "source": [
    "from pandas_datareader import wb\n",
    "\n",
    "wb.search('gdp.*capita.*const').iloc[:,:2]"
   ]
  },
  {
   "cell_type": "markdown",
   "metadata": {},
   "source": [
    "Then you would use the download function to acquire the data from the World Bank’s servers:"
   ]
  },
  {
   "cell_type": "code",
   "execution_count": 37,
   "metadata": {},
   "outputs": [
    {
     "name": "stdout",
     "output_type": "stream",
     "text": [
      "                    NY.GDP.PCAP.KD\n",
      "country       year                \n",
      "Canada        2016    50231.885199\n",
      "              2015    50109.875276\n",
      "              2014    50067.042792\n",
      "Mexico        2016     9707.136148\n",
      "              2015     9612.964698\n",
      "              2014     9492.550949\n",
      "United States 2016    52194.885762\n",
      "              2015    51722.096946\n",
      "              2014    50782.520695\n"
     ]
    }
   ],
   "source": [
    "dat = wb.download(indicator='NY.GDP.PCAP.KD', country=['US', 'CA', 'MX'], start=2014, end=2017)\n",
    "\n",
    "print(dat)"
   ]
  },
  {
   "cell_type": "markdown",
   "metadata": {},
   "source": [
    "The resulting dataset is a properly formatted DataFrame with a hierarchical index, so it is easy to apply .groupby transformations to it:"
   ]
  },
  {
   "cell_type": "code",
   "execution_count": 38,
   "metadata": {},
   "outputs": [
    {
     "data": {
      "text/plain": [
       "country\n",
       "Canada           50136.267756\n",
       "Mexico            9604.217265\n",
       "United States    51566.501135\n",
       "Name: NY.GDP.PCAP.KD, dtype: float64"
      ]
     },
     "execution_count": 38,
     "metadata": {},
     "output_type": "execute_result"
    }
   ],
   "source": [
    "dat['NY.GDP.PCAP.KD'].groupby(level=0).mean()"
   ]
  },
  {
   "cell_type": "code",
   "execution_count": 43,
   "metadata": {},
   "outputs": [
    {
     "data": {
      "text/html": [
       "<div>\n",
       "<table border=\"1\" class=\"dataframe\">\n",
       "  <thead>\n",
       "    <tr style=\"text-align: right;\">\n",
       "      <th></th>\n",
       "      <th>id</th>\n",
       "      <th>name</th>\n",
       "      <th>source</th>\n",
       "      <th>sourceNote</th>\n",
       "      <th>sourceOrganization</th>\n",
       "      <th>topics</th>\n",
       "    </tr>\n",
       "  </thead>\n",
       "  <tbody>\n",
       "    <tr>\n",
       "      <th>6372</th>\n",
       "      <td>IT.CEL.COVR.ZS</td>\n",
       "      <td>Population covered by mobile cellular network (%)</td>\n",
       "      <td>WDI Database Archives</td>\n",
       "      <td></td>\n",
       "      <td>b''</td>\n",
       "      <td></td>\n",
       "    </tr>\n",
       "    <tr>\n",
       "      <th>6373</th>\n",
       "      <td>IT.CEL.SETS</td>\n",
       "      <td>Mobile cellular subscriptions</td>\n",
       "      <td>World Development Indicators</td>\n",
       "      <td>Mobile cellular telephone subscriptions are su...</td>\n",
       "      <td>b'International Telecommunication Union, World...</td>\n",
       "      <td>Infrastructure</td>\n",
       "    </tr>\n",
       "    <tr>\n",
       "      <th>6374</th>\n",
       "      <td>IT.CEL.SETS.P2</td>\n",
       "      <td>Mobile cellular subscriptions (per 100 people)</td>\n",
       "      <td>World Development Indicators</td>\n",
       "      <td>Mobile cellular telephone subscriptions are su...</td>\n",
       "      <td>b'International Telecommunication Union, World...</td>\n",
       "      <td>Infrastructure</td>\n",
       "    </tr>\n",
       "    <tr>\n",
       "      <th>6377</th>\n",
       "      <td>IT.CELL.3MIN.CD.OP</td>\n",
       "      <td>Mobile cellular - price of 3-minute local call...</td>\n",
       "      <td>Africa Development Indicators</td>\n",
       "      <td>Please cite the International Telecommunicatio...</td>\n",
       "      <td>b'International Telecommunication Union, World...</td>\n",
       "      <td></td>\n",
       "    </tr>\n",
       "    <tr>\n",
       "      <th>6378</th>\n",
       "      <td>IT.CELL.3MIN.CD.PK</td>\n",
       "      <td>Mobile cellular - price of 3-minute local call...</td>\n",
       "      <td>Africa Development Indicators</td>\n",
       "      <td>Please cite the International Telecommunicatio...</td>\n",
       "      <td>b'International Telecommunication Union, World...</td>\n",
       "      <td></td>\n",
       "    </tr>\n",
       "  </tbody>\n",
       "</table>\n",
       "</div>"
      ],
      "text/plain": [
       "                      id                                               name  \\\n",
       "6372      IT.CEL.COVR.ZS  Population covered by mobile cellular network (%)   \n",
       "6373         IT.CEL.SETS                      Mobile cellular subscriptions   \n",
       "6374      IT.CEL.SETS.P2     Mobile cellular subscriptions (per 100 people)   \n",
       "6377  IT.CELL.3MIN.CD.OP  Mobile cellular - price of 3-minute local call...   \n",
       "6378  IT.CELL.3MIN.CD.PK  Mobile cellular - price of 3-minute local call...   \n",
       "\n",
       "                             source  \\\n",
       "6372          WDI Database Archives   \n",
       "6373   World Development Indicators   \n",
       "6374   World Development Indicators   \n",
       "6377  Africa Development Indicators   \n",
       "6378  Africa Development Indicators   \n",
       "\n",
       "                                             sourceNote  \\\n",
       "6372                                                      \n",
       "6373  Mobile cellular telephone subscriptions are su...   \n",
       "6374  Mobile cellular telephone subscriptions are su...   \n",
       "6377  Please cite the International Telecommunicatio...   \n",
       "6378  Please cite the International Telecommunicatio...   \n",
       "\n",
       "                                     sourceOrganization           topics  \n",
       "6372                                                b''                   \n",
       "6373  b'International Telecommunication Union, World...  Infrastructure   \n",
       "6374  b'International Telecommunication Union, World...  Infrastructure   \n",
       "6377  b'International Telecommunication Union, World...                   \n",
       "6378  b'International Telecommunication Union, World...                   "
      ]
     },
     "execution_count": 43,
     "metadata": {},
     "output_type": "execute_result"
    }
   ],
   "source": [
    "wb.search('cell').head()"
   ]
  },
  {
   "cell_type": "code",
   "execution_count": 44,
   "metadata": {},
   "outputs": [
    {
     "data": {
      "text/html": [
       "<div>\n",
       "<table border=\"1\" class=\"dataframe\">\n",
       "  <thead>\n",
       "    <tr style=\"text-align: right;\">\n",
       "      <th></th>\n",
       "      <th>id</th>\n",
       "      <th>name</th>\n",
       "      <th>source</th>\n",
       "      <th>sourceNote</th>\n",
       "      <th>sourceOrganization</th>\n",
       "      <th>topics</th>\n",
       "    </tr>\n",
       "  </thead>\n",
       "  <tbody>\n",
       "    <tr>\n",
       "      <th>6372</th>\n",
       "      <td>IT.CEL.COVR.ZS</td>\n",
       "      <td>Population covered by mobile cellular network (%)</td>\n",
       "      <td>WDI Database Archives</td>\n",
       "      <td></td>\n",
       "      <td>b''</td>\n",
       "      <td></td>\n",
       "    </tr>\n",
       "    <tr>\n",
       "      <th>6427</th>\n",
       "      <td>IT.MOB.COV.ZS</td>\n",
       "      <td>Population coverage of mobile cellular telepho...</td>\n",
       "      <td>Africa Development Indicators</td>\n",
       "      <td>Please cite the International Telecommunicatio...</td>\n",
       "      <td>b'International Telecommunication Union, World...</td>\n",
       "      <td></td>\n",
       "    </tr>\n",
       "  </tbody>\n",
       "</table>\n",
       "</div>"
      ],
      "text/plain": [
       "                  id                                               name  \\\n",
       "6372  IT.CEL.COVR.ZS  Population covered by mobile cellular network (%)   \n",
       "6427   IT.MOB.COV.ZS  Population coverage of mobile cellular telepho...   \n",
       "\n",
       "                             source  \\\n",
       "6372          WDI Database Archives   \n",
       "6427  Africa Development Indicators   \n",
       "\n",
       "                                             sourceNote  \\\n",
       "6372                                                      \n",
       "6427  Please cite the International Telecommunicatio...   \n",
       "\n",
       "                                     sourceOrganization topics  \n",
       "6372                                                b''         \n",
       "6427  b'International Telecommunication Union, World...         "
      ]
     },
     "execution_count": 44,
     "metadata": {},
     "output_type": "execute_result"
    }
   ],
   "source": [
    "wb.search('cell.*%')"
   ]
  },
  {
   "cell_type": "code",
   "execution_count": 46,
   "metadata": {},
   "outputs": [
    {
     "data": {
      "text/html": [
       "<div>\n",
       "<table border=\"1\" class=\"dataframe\">\n",
       "  <thead>\n",
       "    <tr style=\"text-align: right;\">\n",
       "      <th></th>\n",
       "      <th>id</th>\n",
       "      <th>name</th>\n",
       "      <th>source</th>\n",
       "    </tr>\n",
       "  </thead>\n",
       "  <tbody>\n",
       "    <tr>\n",
       "      <th>6372</th>\n",
       "      <td>IT.CEL.COVR.ZS</td>\n",
       "      <td>Population covered by mobile cellular network (%)</td>\n",
       "      <td>WDI Database Archives</td>\n",
       "    </tr>\n",
       "    <tr>\n",
       "      <th>6427</th>\n",
       "      <td>IT.MOB.COV.ZS</td>\n",
       "      <td>Population coverage of mobile cellular telepho...</td>\n",
       "      <td>Africa Development Indicators</td>\n",
       "    </tr>\n",
       "  </tbody>\n",
       "</table>\n",
       "</div>"
      ],
      "text/plain": [
       "                  id                                               name  \\\n",
       "6372  IT.CEL.COVR.ZS  Population covered by mobile cellular network (%)   \n",
       "6427   IT.MOB.COV.ZS  Population coverage of mobile cellular telepho...   \n",
       "\n",
       "                             source  \n",
       "6372          WDI Database Archives  \n",
       "6427  Africa Development Indicators  "
      ]
     },
     "execution_count": 46,
     "metadata": {},
     "output_type": "execute_result"
    }
   ],
   "source": [
    "wb.search('cell.*%').iloc[:,:3]"
   ]
  },
  {
   "cell_type": "code",
   "execution_count": 48,
   "metadata": {},
   "outputs": [
    {
     "data": {
      "text/html": [
       "<div>\n",
       "<table border=\"1\" class=\"dataframe\">\n",
       "  <thead>\n",
       "    <tr style=\"text-align: right;\">\n",
       "      <th></th>\n",
       "      <th>id</th>\n",
       "      <th>name</th>\n",
       "    </tr>\n",
       "  </thead>\n",
       "  <tbody>\n",
       "    <tr>\n",
       "      <th>6372</th>\n",
       "      <td>IT.CEL.COVR.ZS</td>\n",
       "      <td>Population covered by mobile cellular network (%)</td>\n",
       "    </tr>\n",
       "    <tr>\n",
       "      <th>6373</th>\n",
       "      <td>IT.CEL.SETS</td>\n",
       "      <td>Mobile cellular subscriptions</td>\n",
       "    </tr>\n",
       "    <tr>\n",
       "      <th>6374</th>\n",
       "      <td>IT.CEL.SETS.P2</td>\n",
       "      <td>Mobile cellular subscriptions (per 100 people)</td>\n",
       "    </tr>\n",
       "    <tr>\n",
       "      <th>6377</th>\n",
       "      <td>IT.CELL.3MIN.CD.OP</td>\n",
       "      <td>Mobile cellular - price of 3-minute local call...</td>\n",
       "    </tr>\n",
       "    <tr>\n",
       "      <th>6378</th>\n",
       "      <td>IT.CELL.3MIN.CD.PK</td>\n",
       "      <td>Mobile cellular - price of 3-minute local call...</td>\n",
       "    </tr>\n",
       "  </tbody>\n",
       "</table>\n",
       "</div>"
      ],
      "text/plain": [
       "                      id                                               name\n",
       "6372      IT.CEL.COVR.ZS  Population covered by mobile cellular network (%)\n",
       "6373         IT.CEL.SETS                      Mobile cellular subscriptions\n",
       "6374      IT.CEL.SETS.P2     Mobile cellular subscriptions (per 100 people)\n",
       "6377  IT.CELL.3MIN.CD.OP  Mobile cellular - price of 3-minute local call...\n",
       "6378  IT.CELL.3MIN.CD.PK  Mobile cellular - price of 3-minute local call..."
      ]
     },
     "execution_count": 48,
     "metadata": {},
     "output_type": "execute_result"
    }
   ],
   "source": [
    "wb.search('cell').iloc[:5,:2]"
   ]
  },
  {
   "cell_type": "markdown",
   "metadata": {},
   "source": [
    "Notice that this second search was much faster than the first one because pandas now has a cached list of available data series."
   ]
  },
  {
   "cell_type": "code",
   "execution_count": 52,
   "metadata": {},
   "outputs": [
    {
     "name": "stdout",
     "output_type": "stream",
     "text": [
      "                        gdp  cellphone\n",
      "country   year                        \n",
      "Swaziland 2011  3704.140775       94.9\n",
      "Tunisia   2011  4014.916793      100.0\n",
      "Uganda    2011   629.291434      100.0\n",
      "Zambia    2011  1499.728311       62.0\n",
      "Zimbabwe  2011   812.822513       72.4\n"
     ]
    }
   ],
   "source": [
    "ind = ['NY.GDP.PCAP.KD', 'IT.MOB.COV.ZS']\n",
    "dat = wb.download(indicator=ind, country='all', start=2011, end=2011).dropna()\n",
    "dat.columns = ['gdp', 'cellphone']\n",
    "print(dat.tail())"
   ]
  },
  {
   "cell_type": "markdown",
   "metadata": {},
   "source": [
    "Finally, we use the statsmodels package to assess the relationship between our two variables using ordinary least squares regression. Unsurprisingly, populations in rich countries tend to use cellphones at a higher rate:"
   ]
  },
  {
   "cell_type": "code",
   "execution_count": 53,
   "metadata": {},
   "outputs": [
    {
     "name": "stdout",
     "output_type": "stream",
     "text": [
      "                            OLS Regression Results                            \n",
      "==============================================================================\n",
      "Dep. Variable:              cellphone   R-squared:                       0.321\n",
      "Model:                            OLS   Adj. R-squared:                  0.296\n",
      "Method:                 Least Squares   F-statistic:                     13.21\n",
      "Date:                Wed, 26 Jul 2017   Prob (F-statistic):            0.00111\n",
      "Time:                        20:26:01   Log-Likelihood:                -127.26\n",
      "No. Observations:                  30   AIC:                             258.5\n",
      "Df Residuals:                      28   BIC:                             261.3\n",
      "Df Model:                           1                                         \n",
      "Covariance Type:            nonrobust                                         \n",
      "===============================================================================\n",
      "                  coef    std err          t      P>|t|      [95.0% Conf. Int.]\n",
      "-------------------------------------------------------------------------------\n",
      "Intercept      -2.3661     24.081     -0.098      0.922       -51.694    46.962\n",
      "np.log(gdp)    11.9965      3.301      3.635      0.001         5.236    18.757\n",
      "==============================================================================\n",
      "Omnibus:                       27.738   Durbin-Watson:                   2.064\n",
      "Prob(Omnibus):                  0.000   Jarque-Bera (JB):               62.985\n",
      "Skew:                          -1.931   Prob(JB):                     2.10e-14\n",
      "Kurtosis:                       8.956   Cond. No.                         56.3\n",
      "==============================================================================\n",
      "\n",
      "Warnings:\n",
      "[1] Standard Errors assume that the covariance matrix of the errors is correctly specified.\n"
     ]
    }
   ],
   "source": [
    "import numpy as np\n",
    "import statsmodels.formula.api as smf\n",
    "mod = smf.ols(\"cellphone ~ np.log(gdp)\", dat).fit()\n",
    "print(mod.summary())"
   ]
  },
  {
   "cell_type": "code",
   "execution_count": 55,
   "metadata": {},
   "outputs": [
    {
     "data": {
      "text/html": [
       "<div>\n",
       "<table border=\"1\" class=\"dataframe\">\n",
       "  <thead>\n",
       "    <tr style=\"text-align: right;\">\n",
       "      <th></th>\n",
       "      <th>id</th>\n",
       "      <th>name</th>\n",
       "      <th>source</th>\n",
       "      <th>sourceNote</th>\n",
       "      <th>sourceOrganization</th>\n",
       "      <th>topics</th>\n",
       "    </tr>\n",
       "  </thead>\n",
       "  <tbody>\n",
       "    <tr>\n",
       "      <th>136</th>\n",
       "      <td>3.0.Gini_nozero</td>\n",
       "      <td>Gini Coefficient (No Zero Income)</td>\n",
       "      <td>LAC Equity Lab</td>\n",
       "      <td>The Gini coefficient is most common measure of...</td>\n",
       "      <td>b'LAC Equity Lab tabulations of SEDLAC (CEDLAS...</td>\n",
       "      <td>Poverty</td>\n",
       "    </tr>\n",
       "    <tr>\n",
       "      <th>137</th>\n",
       "      <td>3.0.IncShr.q1</td>\n",
       "      <td>Income Share of First Quintile</td>\n",
       "      <td>LAC Equity Lab</td>\n",
       "      <td>Share of household income held by the bottom q...</td>\n",
       "      <td>b'LAC Equity Lab tabulations of SEDLAC (CEDLAS...</td>\n",
       "      <td>Poverty</td>\n",
       "    </tr>\n",
       "    <tr>\n",
       "      <th>138</th>\n",
       "      <td>3.0.IncShr.q2</td>\n",
       "      <td>Income Share of Second Quintile</td>\n",
       "      <td>LAC Equity Lab</td>\n",
       "      <td>Share of household income held by the seocnd q...</td>\n",
       "      <td>b'LAC Equity Lab tabulations of SEDLAC (CEDLAS...</td>\n",
       "      <td>Poverty</td>\n",
       "    </tr>\n",
       "    <tr>\n",
       "      <th>139</th>\n",
       "      <td>3.0.IncShr.q3</td>\n",
       "      <td>Income Share of Third Quintile</td>\n",
       "      <td>LAC Equity Lab</td>\n",
       "      <td>Share of household income held by the third qu...</td>\n",
       "      <td>b'LAC Equity Lab tabulations of SEDLAC (CEDLAS...</td>\n",
       "      <td>Poverty</td>\n",
       "    </tr>\n",
       "    <tr>\n",
       "      <th>140</th>\n",
       "      <td>3.0.IncShr.q4</td>\n",
       "      <td>Income Share of Fourth Quintile</td>\n",
       "      <td>LAC Equity Lab</td>\n",
       "      <td>Share of household income held by the fourth q...</td>\n",
       "      <td>b'LAC Equity Lab tabulations of SEDLAC (CEDLAS...</td>\n",
       "      <td>Poverty</td>\n",
       "    </tr>\n",
       "  </tbody>\n",
       "</table>\n",
       "</div>"
      ],
      "text/plain": [
       "                  id                               name          source  \\\n",
       "136  3.0.Gini_nozero  Gini Coefficient (No Zero Income)  LAC Equity Lab   \n",
       "137    3.0.IncShr.q1     Income Share of First Quintile  LAC Equity Lab   \n",
       "138    3.0.IncShr.q2    Income Share of Second Quintile  LAC Equity Lab   \n",
       "139    3.0.IncShr.q3     Income Share of Third Quintile  LAC Equity Lab   \n",
       "140    3.0.IncShr.q4    Income Share of Fourth Quintile  LAC Equity Lab   \n",
       "\n",
       "                                            sourceNote  \\\n",
       "136  The Gini coefficient is most common measure of...   \n",
       "137  Share of household income held by the bottom q...   \n",
       "138  Share of household income held by the seocnd q...   \n",
       "139  Share of household income held by the third qu...   \n",
       "140  Share of household income held by the fourth q...   \n",
       "\n",
       "                                    sourceOrganization    topics  \n",
       "136  b'LAC Equity Lab tabulations of SEDLAC (CEDLAS...  Poverty   \n",
       "137  b'LAC Equity Lab tabulations of SEDLAC (CEDLAS...  Poverty   \n",
       "138  b'LAC Equity Lab tabulations of SEDLAC (CEDLAS...  Poverty   \n",
       "139  b'LAC Equity Lab tabulations of SEDLAC (CEDLAS...  Poverty   \n",
       "140  b'LAC Equity Lab tabulations of SEDLAC (CEDLAS...  Poverty   "
      ]
     },
     "execution_count": 55,
     "metadata": {},
     "output_type": "execute_result"
    }
   ],
   "source": [
    "wb.search('income').head()"
   ]
  },
  {
   "cell_type": "markdown",
   "metadata": {},
   "source": [
    "### Country Codes\n",
    "The country argument accepts a string or list of mixed two or three character ISO country codes, as well as dynamic World Bank exceptions to the ISO standards.\n",
    "\n",
    "For a list of the the hard-coded country codes (used solely for error handling logic) see pandas_datareader.wb.country_codes.\n",
    "\n",
    "### Problematic Country Codes & Indicators"
   ]
  },
  {
   "cell_type": "markdown",
   "metadata": {
    "collapsed": true
   },
   "source": [
    "The World Bank’s country list and indicators are dynamic. As of 0.15.1, wb.download() is more flexible. To achieve this, the warning and exception logic changed."
   ]
  },
  {
   "cell_type": "markdown",
   "metadata": {},
   "source": []
  },
  {
   "cell_type": "markdown",
   "metadata": {},
   "source": [
    "The world bank converts some country codes, in their response, which makes error checking by pandas difficult. Retired indicators still persist in the search.\n",
    "\n",
    "Given the new flexibility of 0.15.1, improved error handling by the user may be necessary for fringe cases.\n",
    "\n",
    "To help identify issues:\n",
    "\n",
    "There are at least 4 kinds of country codes:\n",
    "\n",
    "Standard (2/3 digit ISO) - returns data, will warn and error properly.\n",
    "Non-standard (WB Exceptions) - returns data, but will falsely warn.\n",
    "Blank - silently missing from the response.\n",
    "Bad - causes the entire response from WB to fail, always exception inducing.\n",
    "There are at least 3 kinds of indicators:\n",
    "\n",
    "Current - Returns data.\n",
    "Retired - Appears in search results, yet won’t return data.\n",
    "Bad - Will not return data.\n",
    "Use the errors argument to control warnings and exceptions. Setting errors to ignore or warn, won’t stop failed responses. (ie, 100% bad indicators, or a single “bad” (#4 above) country code).\n",
    "\n",
    "See docstrings for more info."
   ]
  },
  {
   "cell_type": "markdown",
   "metadata": {},
   "source": [
    "#### OECD\n",
    "OECD Statistics are avaliable via DataReader. You have to specify OECD’s data set code.\n",
    "\n",
    "To confirm data set code, access to each data -> Export -> SDMX Query. Following example is to download “Trade Union Density” data which set code is “UN_DEN”."
   ]
  },
  {
   "cell_type": "code",
   "execution_count": 2,
   "metadata": {},
   "outputs": [
    {
     "data": {
      "text/plain": [
       "Index(['Australia', 'Austria', 'Belgium', 'Canada', 'Czech Republic',\n",
       "       'Denmark', 'Finland', 'France', 'Germany', 'Greece', 'Hungary',\n",
       "       'Iceland', 'Ireland', 'Italy', 'Japan', 'Korea', 'Luxembourg', 'Mexico',\n",
       "       'Netherlands', 'New Zealand', 'Norway', 'Poland', 'Portugal',\n",
       "       'Slovak Republic', 'Spain', 'Sweden', 'Switzerland', 'Turkey',\n",
       "       'United Kingdom', 'United States', 'OECD countries', 'Chile',\n",
       "       'Slovenia', 'Estonia', 'Israel'],\n",
       "      dtype='object', name='Country')"
      ]
     },
     "execution_count": 2,
     "metadata": {},
     "output_type": "execute_result"
    }
   ],
   "source": [
    "import pandas_datareader.data as web\n",
    "\n",
    "import datetime\n",
    "\n",
    "df = web.DataReader('UN_DEN', 'oecd', end=datetime.datetime(2012, 1, 1))\n",
    "\n",
    "df.columns"
   ]
  },
  {
   "cell_type": "code",
   "execution_count": 3,
   "metadata": {},
   "outputs": [
    {
     "data": {
      "text/html": [
       "<div>\n",
       "<table border=\"1\" class=\"dataframe\">\n",
       "  <thead>\n",
       "    <tr style=\"text-align: right;\">\n",
       "      <th>Country</th>\n",
       "      <th>Japan</th>\n",
       "      <th>United States</th>\n",
       "    </tr>\n",
       "    <tr>\n",
       "      <th>Time</th>\n",
       "      <th></th>\n",
       "      <th></th>\n",
       "    </tr>\n",
       "  </thead>\n",
       "  <tbody>\n",
       "    <tr>\n",
       "      <th>2010-01-01</th>\n",
       "      <td>18.403807</td>\n",
       "      <td>11.383460</td>\n",
       "    </tr>\n",
       "    <tr>\n",
       "      <th>2011-01-01</th>\n",
       "      <td>18.995042</td>\n",
       "      <td>11.329488</td>\n",
       "    </tr>\n",
       "    <tr>\n",
       "      <th>2012-01-01</th>\n",
       "      <td>17.972384</td>\n",
       "      <td>10.815352</td>\n",
       "    </tr>\n",
       "  </tbody>\n",
       "</table>\n",
       "</div>"
      ],
      "text/plain": [
       "Country         Japan  United States\n",
       "Time                                \n",
       "2010-01-01  18.403807      11.383460\n",
       "2011-01-01  18.995042      11.329488\n",
       "2012-01-01  17.972384      10.815352"
      ]
     },
     "execution_count": 3,
     "metadata": {},
     "output_type": "execute_result"
    }
   ],
   "source": [
    "df[['Japan', 'United States']]"
   ]
  },
  {
   "cell_type": "markdown",
   "metadata": {},
   "source": [
    "#### Eurostat\n",
    "Eurostat are avaliable via DataReader.\n",
    "\n",
    "Get Rail accidents by type of accident (ERA data) data. The result will be a DataFrame which has DatetimeIndex as index and MultiIndex of attributes or countries as column. The target URL is:\n",
    "\n",
    "http://appsso.eurostat.ec.europa.eu/nui/show.do?dataset=tran_sf_railac&lang=en\n",
    "You can specify dataset ID “tran_sf_railac” to get corresponding data via DataReader."
   ]
  },
  {
   "cell_type": "code",
   "execution_count": 5,
   "metadata": {},
   "outputs": [
    {
     "data": {
      "text/html": [
       "<div>\n",
       "<table border=\"1\" class=\"dataframe\">\n",
       "  <thead>\n",
       "    <tr>\n",
       "      <th>ACCIDENT</th>\n",
       "      <th colspan=\"10\" halign=\"left\">Collisions of trains, including collisions with obstacles within the clearance gauge</th>\n",
       "      <th>...</th>\n",
       "      <th colspan=\"10\" halign=\"left\">Total</th>\n",
       "    </tr>\n",
       "    <tr>\n",
       "      <th>UNIT</th>\n",
       "      <th colspan=\"10\" halign=\"left\">Number</th>\n",
       "      <th>...</th>\n",
       "      <th colspan=\"10\" halign=\"left\">Number</th>\n",
       "    </tr>\n",
       "    <tr>\n",
       "      <th>GEO</th>\n",
       "      <th>Austria</th>\n",
       "      <th>Belgium</th>\n",
       "      <th>Bulgaria</th>\n",
       "      <th>Switzerland</th>\n",
       "      <th>Channel Tunnel</th>\n",
       "      <th>Czech Republic</th>\n",
       "      <th>Germany (until 1990 former territory of the FRG)</th>\n",
       "      <th>Denmark</th>\n",
       "      <th>Estonia</th>\n",
       "      <th>Greece</th>\n",
       "      <th>...</th>\n",
       "      <th>Latvia</th>\n",
       "      <th>Netherlands</th>\n",
       "      <th>Norway</th>\n",
       "      <th>Poland</th>\n",
       "      <th>Portugal</th>\n",
       "      <th>Romania</th>\n",
       "      <th>Sweden</th>\n",
       "      <th>Slovenia</th>\n",
       "      <th>Slovakia</th>\n",
       "      <th>United Kingdom</th>\n",
       "    </tr>\n",
       "    <tr>\n",
       "      <th>FREQ</th>\n",
       "      <th>Annual</th>\n",
       "      <th>Annual</th>\n",
       "      <th>Annual</th>\n",
       "      <th>Annual</th>\n",
       "      <th>Annual</th>\n",
       "      <th>Annual</th>\n",
       "      <th>Annual</th>\n",
       "      <th>Annual</th>\n",
       "      <th>Annual</th>\n",
       "      <th>Annual</th>\n",
       "      <th>...</th>\n",
       "      <th>Annual</th>\n",
       "      <th>Annual</th>\n",
       "      <th>Annual</th>\n",
       "      <th>Annual</th>\n",
       "      <th>Annual</th>\n",
       "      <th>Annual</th>\n",
       "      <th>Annual</th>\n",
       "      <th>Annual</th>\n",
       "      <th>Annual</th>\n",
       "      <th>Annual</th>\n",
       "    </tr>\n",
       "    <tr>\n",
       "      <th>TIME_PERIOD</th>\n",
       "      <th></th>\n",
       "      <th></th>\n",
       "      <th></th>\n",
       "      <th></th>\n",
       "      <th></th>\n",
       "      <th></th>\n",
       "      <th></th>\n",
       "      <th></th>\n",
       "      <th></th>\n",
       "      <th></th>\n",
       "      <th></th>\n",
       "      <th></th>\n",
       "      <th></th>\n",
       "      <th></th>\n",
       "      <th></th>\n",
       "      <th></th>\n",
       "      <th></th>\n",
       "      <th></th>\n",
       "      <th></th>\n",
       "      <th></th>\n",
       "      <th></th>\n",
       "    </tr>\n",
       "  </thead>\n",
       "  <tbody>\n",
       "    <tr>\n",
       "      <th>2010-01-01</th>\n",
       "      <td>3.0</td>\n",
       "      <td>5.0</td>\n",
       "      <td>2.0</td>\n",
       "      <td>5.0</td>\n",
       "      <td>0.0</td>\n",
       "      <td>3.0</td>\n",
       "      <td>13.0</td>\n",
       "      <td>0.0</td>\n",
       "      <td>1.0</td>\n",
       "      <td>4.0</td>\n",
       "      <td>...</td>\n",
       "      <td>41.0</td>\n",
       "      <td>24.0</td>\n",
       "      <td>20.0</td>\n",
       "      <td>449.0</td>\n",
       "      <td>42.0</td>\n",
       "      <td>271.0</td>\n",
       "      <td>69.0</td>\n",
       "      <td>21.0</td>\n",
       "      <td>85.0</td>\n",
       "      <td>62.0</td>\n",
       "    </tr>\n",
       "    <tr>\n",
       "      <th>2011-01-01</th>\n",
       "      <td>2.0</td>\n",
       "      <td>0.0</td>\n",
       "      <td>0.0</td>\n",
       "      <td>4.0</td>\n",
       "      <td>0.0</td>\n",
       "      <td>6.0</td>\n",
       "      <td>18.0</td>\n",
       "      <td>1.0</td>\n",
       "      <td>0.0</td>\n",
       "      <td>1.0</td>\n",
       "      <td>...</td>\n",
       "      <td>35.0</td>\n",
       "      <td>29.0</td>\n",
       "      <td>36.0</td>\n",
       "      <td>488.0</td>\n",
       "      <td>27.0</td>\n",
       "      <td>217.0</td>\n",
       "      <td>54.0</td>\n",
       "      <td>11.0</td>\n",
       "      <td>84.0</td>\n",
       "      <td>78.0</td>\n",
       "    </tr>\n",
       "    <tr>\n",
       "      <th>2012-01-01</th>\n",
       "      <td>1.0</td>\n",
       "      <td>3.0</td>\n",
       "      <td>3.0</td>\n",
       "      <td>4.0</td>\n",
       "      <td>0.0</td>\n",
       "      <td>6.0</td>\n",
       "      <td>23.0</td>\n",
       "      <td>1.0</td>\n",
       "      <td>3.0</td>\n",
       "      <td>2.0</td>\n",
       "      <td>...</td>\n",
       "      <td>25.0</td>\n",
       "      <td>30.0</td>\n",
       "      <td>19.0</td>\n",
       "      <td>379.0</td>\n",
       "      <td>36.0</td>\n",
       "      <td>215.0</td>\n",
       "      <td>47.0</td>\n",
       "      <td>14.0</td>\n",
       "      <td>96.0</td>\n",
       "      <td>75.0</td>\n",
       "    </tr>\n",
       "    <tr>\n",
       "      <th>2013-01-01</th>\n",
       "      <td>4.0</td>\n",
       "      <td>1.0</td>\n",
       "      <td>2.0</td>\n",
       "      <td>6.0</td>\n",
       "      <td>0.0</td>\n",
       "      <td>5.0</td>\n",
       "      <td>29.0</td>\n",
       "      <td>0.0</td>\n",
       "      <td>0.0</td>\n",
       "      <td>2.0</td>\n",
       "      <td>...</td>\n",
       "      <td>26.0</td>\n",
       "      <td>36.0</td>\n",
       "      <td>30.0</td>\n",
       "      <td>328.0</td>\n",
       "      <td>48.0</td>\n",
       "      <td>180.0</td>\n",
       "      <td>43.0</td>\n",
       "      <td>13.0</td>\n",
       "      <td>94.0</td>\n",
       "      <td>84.0</td>\n",
       "    </tr>\n",
       "    <tr>\n",
       "      <th>2014-01-01</th>\n",
       "      <td>1.0</td>\n",
       "      <td>3.0</td>\n",
       "      <td>4.0</td>\n",
       "      <td>0.0</td>\n",
       "      <td>0.0</td>\n",
       "      <td>13.0</td>\n",
       "      <td>32.0</td>\n",
       "      <td>0.0</td>\n",
       "      <td>0.0</td>\n",
       "      <td>1.0</td>\n",
       "      <td>...</td>\n",
       "      <td>22.0</td>\n",
       "      <td>20.0</td>\n",
       "      <td>28.0</td>\n",
       "      <td>313.0</td>\n",
       "      <td>50.0</td>\n",
       "      <td>185.0</td>\n",
       "      <td>53.0</td>\n",
       "      <td>15.0</td>\n",
       "      <td>113.0</td>\n",
       "      <td>54.0</td>\n",
       "    </tr>\n",
       "    <tr>\n",
       "      <th>2015-01-01</th>\n",
       "      <td>7.0</td>\n",
       "      <td>0.0</td>\n",
       "      <td>3.0</td>\n",
       "      <td>3.0</td>\n",
       "      <td>0.0</td>\n",
       "      <td>14.0</td>\n",
       "      <td>40.0</td>\n",
       "      <td>3.0</td>\n",
       "      <td>0.0</td>\n",
       "      <td>1.0</td>\n",
       "      <td>...</td>\n",
       "      <td>25.0</td>\n",
       "      <td>31.0</td>\n",
       "      <td>19.0</td>\n",
       "      <td>307.0</td>\n",
       "      <td>23.0</td>\n",
       "      <td>141.0</td>\n",
       "      <td>40.0</td>\n",
       "      <td>14.0</td>\n",
       "      <td>87.0</td>\n",
       "      <td>40.0</td>\n",
       "    </tr>\n",
       "  </tbody>\n",
       "</table>\n",
       "<p>6 rows × 210 columns</p>\n",
       "</div>"
      ],
      "text/plain": [
       "ACCIDENT    Collisions of trains, including collisions with obstacles within the clearance gauge  \\\n",
       "UNIT                                                                                      Number   \n",
       "GEO                                                                                      Austria   \n",
       "FREQ                                                                                      Annual   \n",
       "TIME_PERIOD                                                                                        \n",
       "2010-01-01                                                 3.0                                     \n",
       "2011-01-01                                                 2.0                                     \n",
       "2012-01-01                                                 1.0                                     \n",
       "2013-01-01                                                 4.0                                     \n",
       "2014-01-01                                                 1.0                                     \n",
       "2015-01-01                                                 7.0                                     \n",
       "\n",
       "ACCIDENT                                                                \\\n",
       "UNIT                                                                     \n",
       "GEO         Belgium Bulgaria Switzerland Channel Tunnel Czech Republic   \n",
       "FREQ         Annual   Annual      Annual         Annual         Annual   \n",
       "TIME_PERIOD                                                              \n",
       "2010-01-01      5.0      2.0         5.0            0.0            3.0   \n",
       "2011-01-01      0.0      0.0         4.0            0.0            6.0   \n",
       "2012-01-01      3.0      3.0         4.0            0.0            6.0   \n",
       "2013-01-01      1.0      2.0         6.0            0.0            5.0   \n",
       "2014-01-01      3.0      4.0         0.0            0.0           13.0   \n",
       "2015-01-01      0.0      3.0         3.0            0.0           14.0   \n",
       "\n",
       "ACCIDENT                                                                      \\\n",
       "UNIT                                                                           \n",
       "GEO         Germany (until 1990 former territory of the FRG) Denmark Estonia   \n",
       "FREQ                                                  Annual  Annual  Annual   \n",
       "TIME_PERIOD                                                                    \n",
       "2010-01-01                                              13.0     0.0     1.0   \n",
       "2011-01-01                                              18.0     1.0     0.0   \n",
       "2012-01-01                                              23.0     1.0     3.0   \n",
       "2013-01-01                                              29.0     0.0     0.0   \n",
       "2014-01-01                                              32.0     0.0     0.0   \n",
       "2015-01-01                                              40.0     3.0     0.0   \n",
       "\n",
       "ACCIDENT                ...        Total                                     \\\n",
       "UNIT                    ...       Number                                      \n",
       "GEO         Greece      ...       Latvia Netherlands Norway Poland Portugal   \n",
       "FREQ        Annual      ...       Annual      Annual Annual Annual   Annual   \n",
       "TIME_PERIOD             ...                                                   \n",
       "2010-01-01     4.0      ...         41.0        24.0   20.0  449.0     42.0   \n",
       "2011-01-01     1.0      ...         35.0        29.0   36.0  488.0     27.0   \n",
       "2012-01-01     2.0      ...         25.0        30.0   19.0  379.0     36.0   \n",
       "2013-01-01     2.0      ...         26.0        36.0   30.0  328.0     48.0   \n",
       "2014-01-01     1.0      ...         22.0        20.0   28.0  313.0     50.0   \n",
       "2015-01-01     1.0      ...         25.0        31.0   19.0  307.0     23.0   \n",
       "\n",
       "ACCIDENT                                                     \n",
       "UNIT                                                         \n",
       "GEO         Romania Sweden Slovenia Slovakia United Kingdom  \n",
       "FREQ         Annual Annual   Annual   Annual         Annual  \n",
       "TIME_PERIOD                                                  \n",
       "2010-01-01    271.0   69.0     21.0     85.0           62.0  \n",
       "2011-01-01    217.0   54.0     11.0     84.0           78.0  \n",
       "2012-01-01    215.0   47.0     14.0     96.0           75.0  \n",
       "2013-01-01    180.0   43.0     13.0     94.0           84.0  \n",
       "2014-01-01    185.0   53.0     15.0    113.0           54.0  \n",
       "2015-01-01    141.0   40.0     14.0     87.0           40.0  \n",
       "\n",
       "[6 rows x 210 columns]"
      ]
     },
     "execution_count": 5,
     "metadata": {},
     "output_type": "execute_result"
    }
   ],
   "source": [
    "import pandas_datareader.data as web\n",
    "\n",
    "df = web.DataReader(\"tran_sf_railac\", 'eurostat')\n",
    "\n",
    "df"
   ]
  },
  {
   "cell_type": "markdown",
   "metadata": {},
   "source": [
    "#### EDGAR Index\n",
    "** As of December 31st, the SEC disabled access via FTP. EDGAR support currently broken until re-write to use HTTPS. **\n",
    "\n",
    "Company filing index from EDGAR (SEC).\n",
    "\n",
    "The daily indices get large quickly (i.e. the set of daily indices from 1994 to 2015 is 1.5GB), and the FTP server will close the connection past some downloading threshold . In testing, pulling one year at a time works well. If the FTP server starts refusing your connections, you should be able to reconnect after waiting a few minutes.\n",
    "\n",
    "#### TSP Fund Data\n",
    "Download mutual fund index prices for the TSP."
   ]
  },
  {
   "cell_type": "code",
   "execution_count": 7,
   "metadata": {},
   "outputs": [
    {
     "data": {
      "text/html": [
       "<div>\n",
       "<table border=\"1\" class=\"dataframe\">\n",
       "  <thead>\n",
       "    <tr style=\"text-align: right;\">\n",
       "      <th></th>\n",
       "      <th>L Income</th>\n",
       "      <th>L 2020</th>\n",
       "      <th>L 2030</th>\n",
       "      <th>L 2040</th>\n",
       "      <th>L 2050</th>\n",
       "      <th>G Fund</th>\n",
       "      <th>F Fund</th>\n",
       "      <th>C Fund</th>\n",
       "      <th>S Fund</th>\n",
       "      <th>I Fund</th>\n",
       "      <th></th>\n",
       "    </tr>\n",
       "    <tr>\n",
       "      <th>date</th>\n",
       "      <th></th>\n",
       "      <th></th>\n",
       "      <th></th>\n",
       "      <th></th>\n",
       "      <th></th>\n",
       "      <th></th>\n",
       "      <th></th>\n",
       "      <th></th>\n",
       "      <th></th>\n",
       "      <th></th>\n",
       "      <th></th>\n",
       "    </tr>\n",
       "  </thead>\n",
       "  <tbody>\n",
       "    <tr>\n",
       "      <th>2015-10-01</th>\n",
       "      <td>17.5164</td>\n",
       "      <td>22.5789</td>\n",
       "      <td>24.2159</td>\n",
       "      <td>25.5690</td>\n",
       "      <td>14.4009</td>\n",
       "      <td>14.8380</td>\n",
       "      <td>17.0467</td>\n",
       "      <td>25.7953</td>\n",
       "      <td>34.0993</td>\n",
       "      <td>23.3202</td>\n",
       "      <td>NaN</td>\n",
       "    </tr>\n",
       "    <tr>\n",
       "      <th>2015-10-02</th>\n",
       "      <td>17.5707</td>\n",
       "      <td>22.7413</td>\n",
       "      <td>24.4472</td>\n",
       "      <td>25.8518</td>\n",
       "      <td>14.5805</td>\n",
       "      <td>14.8388</td>\n",
       "      <td>17.0924</td>\n",
       "      <td>26.1669</td>\n",
       "      <td>34.6504</td>\n",
       "      <td>23.6367</td>\n",
       "      <td></td>\n",
       "    </tr>\n",
       "    <tr>\n",
       "      <th>2015-10-05</th>\n",
       "      <td>17.6395</td>\n",
       "      <td>22.9582</td>\n",
       "      <td>24.7571</td>\n",
       "      <td>26.2306</td>\n",
       "      <td>14.8233</td>\n",
       "      <td>14.8413</td>\n",
       "      <td>17.0531</td>\n",
       "      <td>26.6467</td>\n",
       "      <td>35.3565</td>\n",
       "      <td>24.1475</td>\n",
       "      <td></td>\n",
       "    </tr>\n",
       "    <tr>\n",
       "      <th>2015-10-06</th>\n",
       "      <td>17.6338</td>\n",
       "      <td>22.9390</td>\n",
       "      <td>24.7268</td>\n",
       "      <td>26.1898</td>\n",
       "      <td>14.7979</td>\n",
       "      <td>14.8421</td>\n",
       "      <td>17.0790</td>\n",
       "      <td>26.5513</td>\n",
       "      <td>35.1320</td>\n",
       "      <td>24.2294</td>\n",
       "      <td></td>\n",
       "    </tr>\n",
       "    <tr>\n",
       "      <th>2015-10-07</th>\n",
       "      <td>17.6639</td>\n",
       "      <td>23.0324</td>\n",
       "      <td>24.8629</td>\n",
       "      <td>26.3598</td>\n",
       "      <td>14.9063</td>\n",
       "      <td>14.8429</td>\n",
       "      <td>17.0725</td>\n",
       "      <td>26.7751</td>\n",
       "      <td>35.6035</td>\n",
       "      <td>24.3671</td>\n",
       "      <td></td>\n",
       "    </tr>\n",
       "  </tbody>\n",
       "</table>\n",
       "</div>"
      ],
      "text/plain": [
       "            L Income   L 2020   L 2030   L 2040   L 2050   G Fund   F Fund  \\\n",
       "date                                                                         \n",
       "2015-10-01   17.5164  22.5789  24.2159  25.5690  14.4009  14.8380  17.0467   \n",
       "2015-10-02   17.5707  22.7413  24.4472  25.8518  14.5805  14.8388  17.0924   \n",
       "2015-10-05   17.6395  22.9582  24.7571  26.2306  14.8233  14.8413  17.0531   \n",
       "2015-10-06   17.6338  22.9390  24.7268  26.1898  14.7979  14.8421  17.0790   \n",
       "2015-10-07   17.6639  23.0324  24.8629  26.3598  14.9063  14.8429  17.0725   \n",
       "\n",
       "             C Fund   S Fund   I Fund       \n",
       "date                                        \n",
       "2015-10-01  25.7953  34.0993  23.3202  NaN  \n",
       "2015-10-02  26.1669  34.6504  23.6367       \n",
       "2015-10-05  26.6467  35.3565  24.1475       \n",
       "2015-10-06  26.5513  35.1320  24.2294       \n",
       "2015-10-07  26.7751  35.6035  24.3671       "
      ]
     },
     "execution_count": 7,
     "metadata": {},
     "output_type": "execute_result"
    }
   ],
   "source": [
    "import pandas_datareader.tsp as tsp\n",
    "\n",
    "tspreader = tsp.TSPReader(start='2015-10-1', end='2015-12-31')\n",
    "\n",
    "tspreader.read().head()"
   ]
  },
  {
   "cell_type": "markdown",
   "metadata": {},
   "source": [
    "#### Nasdaq Trader Symbol Definitions\n",
    "Download the latest symbols from Nasdaq.\n",
    "\n",
    "Note that Nasdaq updates this file daily, and historical versions are not available. More information on the field definitions."
   ]
  },
  {
   "cell_type": "code",
   "execution_count": 8,
   "metadata": {},
   "outputs": [
    {
     "name": "stdout",
     "output_type": "stream",
     "text": [
      "Nasdaq Traded                                                    True\n",
      "Security Name       International Business Machines Corporation Co...\n",
      "Listing Exchange                                                    N\n",
      "Market Category                                                      \n",
      "ETF                                                             False\n",
      "Round Lot Size                                                    100\n",
      "Test Issue                                                      False\n",
      "Financial Status                                                  NaN\n",
      "CQS Symbol                                                        IBM\n",
      "NASDAQ Symbol                                                     IBM\n",
      "NextShares                                                      False\n",
      "Name: IBM, dtype: object\n"
     ]
    }
   ],
   "source": [
    "from pandas_datareader.nasdaq_trader import get_nasdaq_symbols\n",
    "symbols = get_nasdaq_symbols()\n",
    "print(symbols.ix['IBM'])"
   ]
  },
  {
   "cell_type": "markdown",
   "metadata": {},
   "source": [
    "#### Caching queries\n",
    "\n",
    "Making the same request repeatedly can use a lot of bandwidth, slow down your code and may result in your IP being banned.\n",
    "\n",
    "pandas-datareader allows you to cache queries using requests_cache by passing a requests_cache.Session to DataReader or Options using the session parameter.\n",
    "\n",
    "Below is an example with Yahoo! Finance. The session parameter is implemented for all datareaders."
   ]
  },
  {
   "cell_type": "code",
   "execution_count": 15,
   "metadata": {},
   "outputs": [
    {
     "data": {
      "text/plain": [
       "Open         1.017000e+01\n",
       "High         1.028000e+01\n",
       "Low          1.005000e+01\n",
       "Close        1.028000e+01\n",
       "Adj Close    8.201456e+00\n",
       "Volume       6.085580e+07\n",
       "Name: 2010-01-04 00:00:00, dtype: float64"
      ]
     },
     "execution_count": 15,
     "metadata": {},
     "output_type": "execute_result"
    }
   ],
   "source": [
    "import pandas_datareader.data as web\n",
    "\n",
    "import datetime\n",
    "\n",
    "import requests_cache\n",
    "\n",
    "expire_after = datetime.timedelta(days=3)\n",
    "\n",
    "session = requests_cache.CachedSession(cache_name='cache', backend='sqlite', expire_after=expire_after)\n",
    "\n",
    "start = datetime.datetime(2010, 1, 1)\n",
    "\n",
    "end = datetime.datetime(2013, 1, 27)\n",
    "\n",
    "f = web.DataReader(\"F\", 'yahoo', start, end, session=session)\n",
    "\n",
    "f.ix['2010-01-04']"
   ]
  },
  {
   "cell_type": "markdown",
   "metadata": {},
   "source": [
    "A SQLite file named cache.sqlite will be created in the working directory, storing the request until the expiry date."
   ]
  },
  {
   "cell_type": "code",
   "execution_count": null,
   "metadata": {},
   "outputs": [],
   "source": []
  },
  {
   "cell_type": "code",
   "execution_count": null,
   "metadata": {
    "collapsed": true
   },
   "outputs": [],
   "source": []
  }
 ],
 "metadata": {
  "kernelspec": {
   "display_name": "Python 3",
   "language": "python",
   "name": "python3"
  },
  "language_info": {
   "codemirror_mode": {
    "name": "ipython",
    "version": 3
   },
   "file_extension": ".py",
   "mimetype": "text/x-python",
   "name": "python",
   "nbconvert_exporter": "python",
   "pygments_lexer": "ipython3",
   "version": "3.6.0"
  }
 },
 "nbformat": 4,
 "nbformat_minor": 2
}
